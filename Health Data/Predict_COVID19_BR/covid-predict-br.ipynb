{
 "cells": [
  {
   "cell_type": "markdown",
   "metadata": {
    "papermill": {
     "duration": 0.038797,
     "end_time": "2020-12-02T18:51:26.976297",
     "exception": false,
     "start_time": "2020-12-02T18:51:26.937500",
     "status": "completed"
    },
    "tags": []
   },
   "source": [
    "# COVID-19 - EDA and Predicitons\n",
    "\n",
    "In this is study it will be presented an exploratory data analysis for covid in the world. Then, I will focus on the data from Brazil, my home country, to finish with a prediction of deaths using Linear regression.  "
   ]
  },
  {
   "cell_type": "markdown",
   "metadata": {
    "papermill": {
     "duration": 0.037994,
     "end_time": "2020-12-02T18:51:27.052570",
     "exception": false,
     "start_time": "2020-12-02T18:51:27.014576",
     "status": "completed"
    },
    "tags": []
   },
   "source": [
    "## 1 - Importing the libraries and Loading the file"
   ]
  },
  {
   "cell_type": "code",
   "execution_count": 1,
   "metadata": {
    "_cell_guid": "79c7e3d0-c299-4dcb-8224-4455121ee9b0",
    "_uuid": "d629ff2d2480ee46fbb7e2d37f6b5fab8052498a",
    "execution": {
     "iopub.execute_input": "2020-12-02T18:51:27.137214Z",
     "iopub.status.busy": "2020-12-02T18:51:27.136483Z",
     "iopub.status.idle": "2020-12-02T18:51:30.897440Z",
     "shell.execute_reply": "2020-12-02T18:51:30.896476Z"
    },
    "papermill": {
     "duration": 3.806791,
     "end_time": "2020-12-02T18:51:30.897623",
     "exception": false,
     "start_time": "2020-12-02T18:51:27.090832",
     "status": "completed"
    },
    "tags": []
   },
   "outputs": [],
   "source": [
    "#Data Analysis and Visualization \n",
    "import numpy as np \n",
    "import matplotlib.pyplot as plt \n",
    "plt.rcParams.update({'font.size': 16})\n",
    "import pandas as pd \n",
    "import seaborn as sns\n",
    "import folium\n",
    "import geopandas as gpd\n",
    "import branca.colormap as cm\n",
    "import plotly.graph_objects as go\n",
    "import plotly.express as px\n",
    "pd.set_option('display.max_rows', None)\n",
    "from plotly.subplots import make_subplots\n",
    "import calendar\n",
    "\n",
    "#Machine Learning\n",
    "from sklearn.model_selection import train_test_split\n",
    "from sklearn.metrics import mean_absolute_error, mean_squared_error\n",
    "from sklearn.preprocessing import PolynomialFeatures\n",
    "from sklearn.linear_model import LinearRegression\n"
   ]
  },
  {
   "cell_type": "code",
   "execution_count": 2,
   "metadata": {
    "execution": {
     "iopub.execute_input": "2020-12-02T18:51:30.999021Z",
     "iopub.status.busy": "2020-12-02T18:51:30.998349Z",
     "iopub.status.idle": "2020-12-02T18:51:31.344955Z",
     "shell.execute_reply": "2020-12-02T18:51:31.345520Z"
    },
    "papermill": {
     "duration": 0.401243,
     "end_time": "2020-12-02T18:51:31.345672",
     "exception": false,
     "start_time": "2020-12-02T18:51:30.944429",
     "status": "completed"
    },
    "tags": []
   },
   "outputs": [
    {
     "data": {
      "text/html": [
       "<div>\n",
       "<style scoped>\n",
       "    .dataframe tbody tr th:only-of-type {\n",
       "        vertical-align: middle;\n",
       "    }\n",
       "\n",
       "    .dataframe tbody tr th {\n",
       "        vertical-align: top;\n",
       "    }\n",
       "\n",
       "    .dataframe thead th {\n",
       "        text-align: right;\n",
       "    }\n",
       "</style>\n",
       "<table border=\"1\" class=\"dataframe\">\n",
       "  <thead>\n",
       "    <tr style=\"text-align: right;\">\n",
       "      <th></th>\n",
       "      <th>SNo</th>\n",
       "      <th>ObservationDate</th>\n",
       "      <th>Province/State</th>\n",
       "      <th>Country/Region</th>\n",
       "      <th>Last Update</th>\n",
       "      <th>Confirmed</th>\n",
       "      <th>Deaths</th>\n",
       "      <th>Recovered</th>\n",
       "    </tr>\n",
       "  </thead>\n",
       "  <tbody>\n",
       "    <tr>\n",
       "      <th>0</th>\n",
       "      <td>1</td>\n",
       "      <td>01/22/2020</td>\n",
       "      <td>Anhui</td>\n",
       "      <td>Mainland China</td>\n",
       "      <td>1/22/2020 17:00</td>\n",
       "      <td>1.0</td>\n",
       "      <td>0.0</td>\n",
       "      <td>0.0</td>\n",
       "    </tr>\n",
       "    <tr>\n",
       "      <th>1</th>\n",
       "      <td>2</td>\n",
       "      <td>01/22/2020</td>\n",
       "      <td>Beijing</td>\n",
       "      <td>Mainland China</td>\n",
       "      <td>1/22/2020 17:00</td>\n",
       "      <td>14.0</td>\n",
       "      <td>0.0</td>\n",
       "      <td>0.0</td>\n",
       "    </tr>\n",
       "    <tr>\n",
       "      <th>2</th>\n",
       "      <td>3</td>\n",
       "      <td>01/22/2020</td>\n",
       "      <td>Chongqing</td>\n",
       "      <td>Mainland China</td>\n",
       "      <td>1/22/2020 17:00</td>\n",
       "      <td>6.0</td>\n",
       "      <td>0.0</td>\n",
       "      <td>0.0</td>\n",
       "    </tr>\n",
       "    <tr>\n",
       "      <th>3</th>\n",
       "      <td>4</td>\n",
       "      <td>01/22/2020</td>\n",
       "      <td>Fujian</td>\n",
       "      <td>Mainland China</td>\n",
       "      <td>1/22/2020 17:00</td>\n",
       "      <td>1.0</td>\n",
       "      <td>0.0</td>\n",
       "      <td>0.0</td>\n",
       "    </tr>\n",
       "    <tr>\n",
       "      <th>4</th>\n",
       "      <td>5</td>\n",
       "      <td>01/22/2020</td>\n",
       "      <td>Gansu</td>\n",
       "      <td>Mainland China</td>\n",
       "      <td>1/22/2020 17:00</td>\n",
       "      <td>0.0</td>\n",
       "      <td>0.0</td>\n",
       "      <td>0.0</td>\n",
       "    </tr>\n",
       "  </tbody>\n",
       "</table>\n",
       "</div>"
      ],
      "text/plain": [
       "   SNo ObservationDate Province/State  Country/Region      Last Update  \\\n",
       "0    1      01/22/2020          Anhui  Mainland China  1/22/2020 17:00   \n",
       "1    2      01/22/2020        Beijing  Mainland China  1/22/2020 17:00   \n",
       "2    3      01/22/2020      Chongqing  Mainland China  1/22/2020 17:00   \n",
       "3    4      01/22/2020         Fujian  Mainland China  1/22/2020 17:00   \n",
       "4    5      01/22/2020          Gansu  Mainland China  1/22/2020 17:00   \n",
       "\n",
       "   Confirmed  Deaths  Recovered  \n",
       "0        1.0     0.0        0.0  \n",
       "1       14.0     0.0        0.0  \n",
       "2        6.0     0.0        0.0  \n",
       "3        1.0     0.0        0.0  \n",
       "4        0.0     0.0        0.0  "
      ]
     },
     "execution_count": 2,
     "metadata": {},
     "output_type": "execute_result"
    }
   ],
   "source": [
    "covid = pd.read_csv('../input/novel-corona-virus-2019-dataset/covid_19_data.csv')\n",
    "covid.head()"
   ]
  },
  {
   "cell_type": "code",
   "execution_count": 3,
   "metadata": {
    "execution": {
     "iopub.execute_input": "2020-12-02T18:51:31.429258Z",
     "iopub.status.busy": "2020-12-02T18:51:31.428498Z",
     "iopub.status.idle": "2020-12-02T18:51:31.432578Z",
     "shell.execute_reply": "2020-12-02T18:51:31.431900Z"
    },
    "papermill": {
     "duration": 0.047748,
     "end_time": "2020-12-02T18:51:31.432741",
     "exception": false,
     "start_time": "2020-12-02T18:51:31.384993",
     "status": "completed"
    },
    "tags": []
   },
   "outputs": [
    {
     "data": {
      "text/plain": [
       "(156292, 8)"
      ]
     },
     "execution_count": 3,
     "metadata": {},
     "output_type": "execute_result"
    }
   ],
   "source": [
    "covid.shape"
   ]
  },
  {
   "cell_type": "markdown",
   "metadata": {
    "papermill": {
     "duration": 0.040218,
     "end_time": "2020-12-02T18:51:31.512827",
     "exception": false,
     "start_time": "2020-12-02T18:51:31.472609",
     "status": "completed"
    },
    "tags": []
   },
   "source": [
    "Converting the data and creating a column with active cases of covid"
   ]
  },
  {
   "cell_type": "code",
   "execution_count": 4,
   "metadata": {
    "execution": {
     "iopub.execute_input": "2020-12-02T18:51:31.601201Z",
     "iopub.status.busy": "2020-12-02T18:51:31.600511Z",
     "iopub.status.idle": "2020-12-02T18:51:31.645518Z",
     "shell.execute_reply": "2020-12-02T18:51:31.644842Z"
    },
    "papermill": {
     "duration": 0.092433,
     "end_time": "2020-12-02T18:51:31.645635",
     "exception": false,
     "start_time": "2020-12-02T18:51:31.553202",
     "status": "completed"
    },
    "tags": []
   },
   "outputs": [
    {
     "data": {
      "text/html": [
       "<div>\n",
       "<style scoped>\n",
       "    .dataframe tbody tr th:only-of-type {\n",
       "        vertical-align: middle;\n",
       "    }\n",
       "\n",
       "    .dataframe tbody tr th {\n",
       "        vertical-align: top;\n",
       "    }\n",
       "\n",
       "    .dataframe thead th {\n",
       "        text-align: right;\n",
       "    }\n",
       "</style>\n",
       "<table border=\"1\" class=\"dataframe\">\n",
       "  <thead>\n",
       "    <tr style=\"text-align: right;\">\n",
       "      <th></th>\n",
       "      <th>SNo</th>\n",
       "      <th>ObservationDate</th>\n",
       "      <th>Province/State</th>\n",
       "      <th>Country/Region</th>\n",
       "      <th>Last Update</th>\n",
       "      <th>Confirmed</th>\n",
       "      <th>Deaths</th>\n",
       "      <th>Recovered</th>\n",
       "      <th>Active</th>\n",
       "    </tr>\n",
       "  </thead>\n",
       "  <tbody>\n",
       "    <tr>\n",
       "      <th>0</th>\n",
       "      <td>1</td>\n",
       "      <td>01/22/2020</td>\n",
       "      <td>Anhui</td>\n",
       "      <td>Mainland China</td>\n",
       "      <td>1/22/2020 17:00</td>\n",
       "      <td>1</td>\n",
       "      <td>0</td>\n",
       "      <td>0</td>\n",
       "      <td>1</td>\n",
       "    </tr>\n",
       "    <tr>\n",
       "      <th>1</th>\n",
       "      <td>2</td>\n",
       "      <td>01/22/2020</td>\n",
       "      <td>Beijing</td>\n",
       "      <td>Mainland China</td>\n",
       "      <td>1/22/2020 17:00</td>\n",
       "      <td>14</td>\n",
       "      <td>0</td>\n",
       "      <td>0</td>\n",
       "      <td>14</td>\n",
       "    </tr>\n",
       "    <tr>\n",
       "      <th>2</th>\n",
       "      <td>3</td>\n",
       "      <td>01/22/2020</td>\n",
       "      <td>Chongqing</td>\n",
       "      <td>Mainland China</td>\n",
       "      <td>1/22/2020 17:00</td>\n",
       "      <td>6</td>\n",
       "      <td>0</td>\n",
       "      <td>0</td>\n",
       "      <td>6</td>\n",
       "    </tr>\n",
       "    <tr>\n",
       "      <th>3</th>\n",
       "      <td>4</td>\n",
       "      <td>01/22/2020</td>\n",
       "      <td>Fujian</td>\n",
       "      <td>Mainland China</td>\n",
       "      <td>1/22/2020 17:00</td>\n",
       "      <td>1</td>\n",
       "      <td>0</td>\n",
       "      <td>0</td>\n",
       "      <td>1</td>\n",
       "    </tr>\n",
       "    <tr>\n",
       "      <th>4</th>\n",
       "      <td>5</td>\n",
       "      <td>01/22/2020</td>\n",
       "      <td>Gansu</td>\n",
       "      <td>Mainland China</td>\n",
       "      <td>1/22/2020 17:00</td>\n",
       "      <td>0</td>\n",
       "      <td>0</td>\n",
       "      <td>0</td>\n",
       "      <td>0</td>\n",
       "    </tr>\n",
       "  </tbody>\n",
       "</table>\n",
       "</div>"
      ],
      "text/plain": [
       "   SNo ObservationDate Province/State  Country/Region      Last Update  \\\n",
       "0    1      01/22/2020          Anhui  Mainland China  1/22/2020 17:00   \n",
       "1    2      01/22/2020        Beijing  Mainland China  1/22/2020 17:00   \n",
       "2    3      01/22/2020      Chongqing  Mainland China  1/22/2020 17:00   \n",
       "3    4      01/22/2020         Fujian  Mainland China  1/22/2020 17:00   \n",
       "4    5      01/22/2020          Gansu  Mainland China  1/22/2020 17:00   \n",
       "\n",
       "   Confirmed  Deaths  Recovered  Active  \n",
       "0          1       0          0       1  \n",
       "1         14       0          0      14  \n",
       "2          6       0          0       6  \n",
       "3          1       0          0       1  \n",
       "4          0       0          0       0  "
      ]
     },
     "execution_count": 4,
     "metadata": {},
     "output_type": "execute_result"
    }
   ],
   "source": [
    "covid[[\"Confirmed\",\"Deaths\",\"Recovered\"]] =covid[[\"Confirmed\",\"Deaths\",\"Recovered\"]].astype(int)\n",
    "covid['Active'] = covid['Confirmed'] - covid['Deaths'] - covid['Recovered']\n",
    "covid.head()"
   ]
  },
  {
   "cell_type": "markdown",
   "metadata": {
    "papermill": {
     "duration": 0.040096,
     "end_time": "2020-12-02T18:51:31.725633",
     "exception": false,
     "start_time": "2020-12-02T18:51:31.685537",
     "status": "completed"
    },
    "tags": []
   },
   "source": [
    "World cases as of the date of this notebook;"
   ]
  },
  {
   "cell_type": "code",
   "execution_count": 5,
   "metadata": {
    "execution": {
     "iopub.execute_input": "2020-12-02T18:51:31.812402Z",
     "iopub.status.busy": "2020-12-02T18:51:31.811298Z",
     "iopub.status.idle": "2020-12-02T18:51:31.829298Z",
     "shell.execute_reply": "2020-12-02T18:51:31.828702Z"
    },
    "papermill": {
     "duration": 0.063145,
     "end_time": "2020-12-02T18:51:31.829432",
     "exception": false,
     "start_time": "2020-12-02T18:51:31.766287",
     "status": "completed"
    },
    "tags": []
   },
   "outputs": [],
   "source": [
    "covid_world = covid.copy()"
   ]
  },
  {
   "cell_type": "markdown",
   "metadata": {
    "papermill": {
     "duration": 0.039779,
     "end_time": "2020-12-02T18:51:31.909232",
     "exception": false,
     "start_time": "2020-12-02T18:51:31.869453",
     "status": "completed"
    },
    "tags": []
   },
   "source": [
    "Getting the active cases for the date:"
   ]
  },
  {
   "cell_type": "code",
   "execution_count": 6,
   "metadata": {
    "execution": {
     "iopub.execute_input": "2020-12-02T18:51:32.021020Z",
     "iopub.status.busy": "2020-12-02T18:51:32.009744Z",
     "iopub.status.idle": "2020-12-02T18:51:32.054489Z",
     "shell.execute_reply": "2020-12-02T18:51:32.053944Z"
    },
    "papermill": {
     "duration": 0.10508,
     "end_time": "2020-12-02T18:51:32.054604",
     "exception": false,
     "start_time": "2020-12-02T18:51:31.949524",
     "status": "completed"
    },
    "tags": []
   },
   "outputs": [
    {
     "data": {
      "text/html": [
       "<div>\n",
       "<style scoped>\n",
       "    .dataframe tbody tr th:only-of-type {\n",
       "        vertical-align: middle;\n",
       "    }\n",
       "\n",
       "    .dataframe tbody tr th {\n",
       "        vertical-align: top;\n",
       "    }\n",
       "\n",
       "    .dataframe thead th {\n",
       "        text-align: right;\n",
       "    }\n",
       "</style>\n",
       "<table border=\"1\" class=\"dataframe\">\n",
       "  <thead>\n",
       "    <tr style=\"text-align: right;\">\n",
       "      <th></th>\n",
       "      <th>ObservationDate</th>\n",
       "      <th>Confirmed</th>\n",
       "      <th>Deaths</th>\n",
       "      <th>Recovered</th>\n",
       "      <th>Active</th>\n",
       "    </tr>\n",
       "  </thead>\n",
       "  <tbody>\n",
       "    <tr>\n",
       "      <th>0</th>\n",
       "      <td>11/15/2020</td>\n",
       "      <td>54370186</td>\n",
       "      <td>1317139</td>\n",
       "      <td>34955148</td>\n",
       "      <td>18097899</td>\n",
       "    </tr>\n",
       "  </tbody>\n",
       "</table>\n",
       "</div>"
      ],
      "text/plain": [
       "  ObservationDate  Confirmed   Deaths  Recovered    Active\n",
       "0      11/15/2020   54370186  1317139   34955148  18097899"
      ]
     },
     "execution_count": 6,
     "metadata": {},
     "output_type": "execute_result"
    }
   ],
   "source": [
    "covid_world = covid_world[covid_world['ObservationDate'] == max(covid_world['ObservationDate'])].reset_index()\n",
    "world_cases = covid_world.groupby([\"ObservationDate\"])[[\"Confirmed\", \"Deaths\",\"Recovered\", \"Active\"]].sum().reset_index()\n",
    "world_cases"
   ]
  },
  {
   "cell_type": "code",
   "execution_count": 7,
   "metadata": {
    "_kg_hide-input": false,
    "execution": {
     "iopub.execute_input": "2020-12-02T18:51:32.144981Z",
     "iopub.status.busy": "2020-12-02T18:51:32.144316Z",
     "iopub.status.idle": "2020-12-02T18:51:33.451358Z",
     "shell.execute_reply": "2020-12-02T18:51:33.450714Z"
    },
    "papermill": {
     "duration": 1.355867,
     "end_time": "2020-12-02T18:51:33.451490",
     "exception": false,
     "start_time": "2020-12-02T18:51:32.095623",
     "status": "completed"
    },
    "tags": []
   },
   "outputs": [
    {
     "data": {
      "text/html": [
       "        <script type=\"text/javascript\">\n",
       "        window.PlotlyConfig = {MathJaxConfig: 'local'};\n",
       "        if (window.MathJax) {MathJax.Hub.Config({SVG: {font: \"STIX-Web\"}});}\n",
       "        if (typeof require !== 'undefined') {\n",
       "        require.undef(\"plotly\");\n",
       "        requirejs.config({\n",
       "            paths: {\n",
       "                'plotly': ['https://cdn.plot.ly/plotly-latest.min']\n",
       "            }\n",
       "        });\n",
       "        require(['plotly'], function(Plotly) {\n",
       "            window._Plotly = Plotly;\n",
       "        });\n",
       "        }\n",
       "        </script>\n",
       "        "
      ]
     },
     "metadata": {},
     "output_type": "display_data"
    },
    {
     "data": {
      "text/html": [
       "<div>                            <div id=\"8dcc4dec-a482-43c4-8dbc-82b5fd97acb9\" class=\"plotly-graph-div\" style=\"height:525px; width:100%;\"></div>            <script type=\"text/javascript\">                require([\"plotly\"], function(Plotly) {                    window.PLOTLYENV=window.PLOTLYENV || {};                                    if (document.getElementById(\"8dcc4dec-a482-43c4-8dbc-82b5fd97acb9\")) {                    Plotly.newPlot(                        \"8dcc4dec-a482-43c4-8dbc-82b5fd97acb9\",                        [{\"domain\": {\"x\": [0.0, 1.0], \"y\": [0.0, 1.0]}, \"hole\": 0.5, \"hovertemplate\": \"label=%{label}<br>value=%{value}<extra></extra>\", \"labels\": [\"Recovered\", \"Deaths\", \"Active\"], \"legendgroup\": \"\", \"name\": \"\", \"showlegend\": true, \"type\": \"pie\", \"values\": [34955148, 1317139, 18097899]}],                        {\"legend\": {\"tracegroupgap\": 0}, \"margin\": {\"t\": 60}, \"piecolorway\": [\"#636EFA\", \"#FECB52\", \"#EF553B\"], \"template\": {\"data\": {\"bar\": [{\"error_x\": {\"color\": \"#2a3f5f\"}, \"error_y\": {\"color\": \"#2a3f5f\"}, \"marker\": {\"line\": {\"color\": \"#E5ECF6\", \"width\": 0.5}}, \"type\": \"bar\"}], \"barpolar\": [{\"marker\": {\"line\": {\"color\": \"#E5ECF6\", \"width\": 0.5}}, \"type\": \"barpolar\"}], \"carpet\": [{\"aaxis\": {\"endlinecolor\": \"#2a3f5f\", \"gridcolor\": \"white\", \"linecolor\": \"white\", \"minorgridcolor\": \"white\", \"startlinecolor\": \"#2a3f5f\"}, \"baxis\": {\"endlinecolor\": \"#2a3f5f\", \"gridcolor\": \"white\", \"linecolor\": \"white\", \"minorgridcolor\": \"white\", \"startlinecolor\": \"#2a3f5f\"}, \"type\": \"carpet\"}], \"choropleth\": [{\"colorbar\": {\"outlinewidth\": 0, \"ticks\": \"\"}, \"type\": \"choropleth\"}], \"contour\": [{\"colorbar\": {\"outlinewidth\": 0, \"ticks\": \"\"}, \"colorscale\": [[0.0, \"#0d0887\"], [0.1111111111111111, \"#46039f\"], [0.2222222222222222, \"#7201a8\"], [0.3333333333333333, \"#9c179e\"], [0.4444444444444444, \"#bd3786\"], [0.5555555555555556, \"#d8576b\"], [0.6666666666666666, \"#ed7953\"], [0.7777777777777778, \"#fb9f3a\"], [0.8888888888888888, \"#fdca26\"], [1.0, \"#f0f921\"]], \"type\": \"contour\"}], \"contourcarpet\": [{\"colorbar\": {\"outlinewidth\": 0, \"ticks\": \"\"}, \"type\": \"contourcarpet\"}], \"heatmap\": [{\"colorbar\": {\"outlinewidth\": 0, \"ticks\": \"\"}, \"colorscale\": [[0.0, \"#0d0887\"], [0.1111111111111111, \"#46039f\"], [0.2222222222222222, \"#7201a8\"], [0.3333333333333333, \"#9c179e\"], [0.4444444444444444, \"#bd3786\"], [0.5555555555555556, \"#d8576b\"], [0.6666666666666666, \"#ed7953\"], [0.7777777777777778, \"#fb9f3a\"], [0.8888888888888888, \"#fdca26\"], [1.0, \"#f0f921\"]], \"type\": \"heatmap\"}], \"heatmapgl\": [{\"colorbar\": {\"outlinewidth\": 0, \"ticks\": \"\"}, \"colorscale\": [[0.0, \"#0d0887\"], [0.1111111111111111, \"#46039f\"], [0.2222222222222222, \"#7201a8\"], [0.3333333333333333, \"#9c179e\"], [0.4444444444444444, \"#bd3786\"], [0.5555555555555556, \"#d8576b\"], [0.6666666666666666, \"#ed7953\"], [0.7777777777777778, \"#fb9f3a\"], [0.8888888888888888, \"#fdca26\"], [1.0, \"#f0f921\"]], \"type\": \"heatmapgl\"}], \"histogram\": [{\"marker\": {\"colorbar\": {\"outlinewidth\": 0, \"ticks\": \"\"}}, \"type\": \"histogram\"}], \"histogram2d\": [{\"colorbar\": {\"outlinewidth\": 0, \"ticks\": \"\"}, \"colorscale\": [[0.0, \"#0d0887\"], [0.1111111111111111, \"#46039f\"], [0.2222222222222222, \"#7201a8\"], [0.3333333333333333, \"#9c179e\"], [0.4444444444444444, \"#bd3786\"], [0.5555555555555556, \"#d8576b\"], [0.6666666666666666, \"#ed7953\"], [0.7777777777777778, \"#fb9f3a\"], [0.8888888888888888, \"#fdca26\"], [1.0, \"#f0f921\"]], \"type\": \"histogram2d\"}], \"histogram2dcontour\": [{\"colorbar\": {\"outlinewidth\": 0, \"ticks\": \"\"}, \"colorscale\": [[0.0, \"#0d0887\"], [0.1111111111111111, \"#46039f\"], [0.2222222222222222, \"#7201a8\"], [0.3333333333333333, \"#9c179e\"], [0.4444444444444444, \"#bd3786\"], [0.5555555555555556, \"#d8576b\"], [0.6666666666666666, \"#ed7953\"], [0.7777777777777778, \"#fb9f3a\"], [0.8888888888888888, \"#fdca26\"], [1.0, \"#f0f921\"]], \"type\": \"histogram2dcontour\"}], \"mesh3d\": [{\"colorbar\": {\"outlinewidth\": 0, \"ticks\": \"\"}, \"type\": \"mesh3d\"}], \"parcoords\": [{\"line\": {\"colorbar\": {\"outlinewidth\": 0, \"ticks\": \"\"}}, \"type\": \"parcoords\"}], \"pie\": [{\"automargin\": true, \"type\": \"pie\"}], \"scatter\": [{\"marker\": {\"colorbar\": {\"outlinewidth\": 0, \"ticks\": \"\"}}, \"type\": \"scatter\"}], \"scatter3d\": [{\"line\": {\"colorbar\": {\"outlinewidth\": 0, \"ticks\": \"\"}}, \"marker\": {\"colorbar\": {\"outlinewidth\": 0, \"ticks\": \"\"}}, \"type\": \"scatter3d\"}], \"scattercarpet\": [{\"marker\": {\"colorbar\": {\"outlinewidth\": 0, \"ticks\": \"\"}}, \"type\": \"scattercarpet\"}], \"scattergeo\": [{\"marker\": {\"colorbar\": {\"outlinewidth\": 0, \"ticks\": \"\"}}, \"type\": \"scattergeo\"}], \"scattergl\": [{\"marker\": {\"colorbar\": {\"outlinewidth\": 0, \"ticks\": \"\"}}, \"type\": \"scattergl\"}], \"scattermapbox\": [{\"marker\": {\"colorbar\": {\"outlinewidth\": 0, \"ticks\": \"\"}}, \"type\": \"scattermapbox\"}], \"scatterpolar\": [{\"marker\": {\"colorbar\": {\"outlinewidth\": 0, \"ticks\": \"\"}}, \"type\": \"scatterpolar\"}], \"scatterpolargl\": [{\"marker\": {\"colorbar\": {\"outlinewidth\": 0, \"ticks\": \"\"}}, \"type\": \"scatterpolargl\"}], \"scatterternary\": [{\"marker\": {\"colorbar\": {\"outlinewidth\": 0, \"ticks\": \"\"}}, \"type\": \"scatterternary\"}], \"surface\": [{\"colorbar\": {\"outlinewidth\": 0, \"ticks\": \"\"}, \"colorscale\": [[0.0, \"#0d0887\"], [0.1111111111111111, \"#46039f\"], [0.2222222222222222, \"#7201a8\"], [0.3333333333333333, \"#9c179e\"], [0.4444444444444444, \"#bd3786\"], [0.5555555555555556, \"#d8576b\"], [0.6666666666666666, \"#ed7953\"], [0.7777777777777778, \"#fb9f3a\"], [0.8888888888888888, \"#fdca26\"], [1.0, \"#f0f921\"]], \"type\": \"surface\"}], \"table\": [{\"cells\": {\"fill\": {\"color\": \"#EBF0F8\"}, \"line\": {\"color\": \"white\"}}, \"header\": {\"fill\": {\"color\": \"#C8D4E3\"}, \"line\": {\"color\": \"white\"}}, \"type\": \"table\"}]}, \"layout\": {\"annotationdefaults\": {\"arrowcolor\": \"#2a3f5f\", \"arrowhead\": 0, \"arrowwidth\": 1}, \"coloraxis\": {\"colorbar\": {\"outlinewidth\": 0, \"ticks\": \"\"}}, \"colorscale\": {\"diverging\": [[0, \"#8e0152\"], [0.1, \"#c51b7d\"], [0.2, \"#de77ae\"], [0.3, \"#f1b6da\"], [0.4, \"#fde0ef\"], [0.5, \"#f7f7f7\"], [0.6, \"#e6f5d0\"], [0.7, \"#b8e186\"], [0.8, \"#7fbc41\"], [0.9, \"#4d9221\"], [1, \"#276419\"]], \"sequential\": [[0.0, \"#0d0887\"], [0.1111111111111111, \"#46039f\"], [0.2222222222222222, \"#7201a8\"], [0.3333333333333333, \"#9c179e\"], [0.4444444444444444, \"#bd3786\"], [0.5555555555555556, \"#d8576b\"], [0.6666666666666666, \"#ed7953\"], [0.7777777777777778, \"#fb9f3a\"], [0.8888888888888888, \"#fdca26\"], [1.0, \"#f0f921\"]], \"sequentialminus\": [[0.0, \"#0d0887\"], [0.1111111111111111, \"#46039f\"], [0.2222222222222222, \"#7201a8\"], [0.3333333333333333, \"#9c179e\"], [0.4444444444444444, \"#bd3786\"], [0.5555555555555556, \"#d8576b\"], [0.6666666666666666, \"#ed7953\"], [0.7777777777777778, \"#fb9f3a\"], [0.8888888888888888, \"#fdca26\"], [1.0, \"#f0f921\"]]}, \"colorway\": [\"#636efa\", \"#EF553B\", \"#00cc96\", \"#ab63fa\", \"#FFA15A\", \"#19d3f3\", \"#FF6692\", \"#B6E880\", \"#FF97FF\", \"#FECB52\"], \"font\": {\"color\": \"#2a3f5f\"}, \"geo\": {\"bgcolor\": \"white\", \"lakecolor\": \"white\", \"landcolor\": \"#E5ECF6\", \"showlakes\": true, \"showland\": true, \"subunitcolor\": \"white\"}, \"hoverlabel\": {\"align\": \"left\"}, \"hovermode\": \"closest\", \"mapbox\": {\"style\": \"light\"}, \"paper_bgcolor\": \"white\", \"plot_bgcolor\": \"#E5ECF6\", \"polar\": {\"angularaxis\": {\"gridcolor\": \"white\", \"linecolor\": \"white\", \"ticks\": \"\"}, \"bgcolor\": \"#E5ECF6\", \"radialaxis\": {\"gridcolor\": \"white\", \"linecolor\": \"white\", \"ticks\": \"\"}}, \"scene\": {\"xaxis\": {\"backgroundcolor\": \"#E5ECF6\", \"gridcolor\": \"white\", \"gridwidth\": 2, \"linecolor\": \"white\", \"showbackground\": true, \"ticks\": \"\", \"zerolinecolor\": \"white\"}, \"yaxis\": {\"backgroundcolor\": \"#E5ECF6\", \"gridcolor\": \"white\", \"gridwidth\": 2, \"linecolor\": \"white\", \"showbackground\": true, \"ticks\": \"\", \"zerolinecolor\": \"white\"}, \"zaxis\": {\"backgroundcolor\": \"#E5ECF6\", \"gridcolor\": \"white\", \"gridwidth\": 2, \"linecolor\": \"white\", \"showbackground\": true, \"ticks\": \"\", \"zerolinecolor\": \"white\"}}, \"shapedefaults\": {\"line\": {\"color\": \"#2a3f5f\"}}, \"ternary\": {\"aaxis\": {\"gridcolor\": \"white\", \"linecolor\": \"white\", \"ticks\": \"\"}, \"baxis\": {\"gridcolor\": \"white\", \"linecolor\": \"white\", \"ticks\": \"\"}, \"bgcolor\": \"#E5ECF6\", \"caxis\": {\"gridcolor\": \"white\", \"linecolor\": \"white\", \"ticks\": \"\"}}, \"title\": {\"x\": 0.05}, \"xaxis\": {\"automargin\": true, \"gridcolor\": \"white\", \"linecolor\": \"white\", \"ticks\": \"\", \"title\": {\"standoff\": 15}, \"zerolinecolor\": \"white\", \"zerolinewidth\": 2}, \"yaxis\": {\"automargin\": true, \"gridcolor\": \"white\", \"linecolor\": \"white\", \"ticks\": \"\", \"title\": {\"standoff\": 15}, \"zerolinecolor\": \"white\", \"zerolinewidth\": 2}}}, \"title\": {\"text\": \"Total cases on 11/15/2020 : 54370186\"}},                        {\"responsive\": true}                    ).then(function(){\n",
       "                            \n",
       "var gd = document.getElementById('8dcc4dec-a482-43c4-8dbc-82b5fd97acb9');\n",
       "var x = new MutationObserver(function (mutations, observer) {{\n",
       "        var display = window.getComputedStyle(gd).display;\n",
       "        if (!display || display === 'none') {{\n",
       "            console.log([gd, 'removed!']);\n",
       "            Plotly.purge(gd);\n",
       "            observer.disconnect();\n",
       "        }}\n",
       "}});\n",
       "\n",
       "// Listen for the removal of the full notebook cells\n",
       "var notebookContainer = gd.closest('#notebook-container');\n",
       "if (notebookContainer) {{\n",
       "    x.observe(notebookContainer, {childList: true});\n",
       "}}\n",
       "\n",
       "// Listen for the clearing of the current output cell\n",
       "var outputEl = gd.closest('.output');\n",
       "if (outputEl) {{\n",
       "    x.observe(outputEl, {childList: true});\n",
       "}}\n",
       "\n",
       "                        })                };                });            </script>        </div>"
      ]
     },
     "metadata": {},
     "output_type": "display_data"
    }
   ],
   "source": [
    "labels = [\"Recovered\",\"Deaths\", \"Active\"]\n",
    "values = world_cases.loc[0, [\"Recovered\",\"Deaths\", \"Active\"]]\n",
    "fig = px.pie(world_cases, values=values, names=labels,color_discrete_sequence=['#636EFA','#FECB52','#EF553B' ],hole=0.5)\n",
    "fig.update_layout(title='Total cases on 11/15/2020 : '+str(world_cases[\"Confirmed\"][0]),)\n",
    "fig.show()"
   ]
  },
  {
   "cell_type": "markdown",
   "metadata": {
    "papermill": {
     "duration": 0.041642,
     "end_time": "2020-12-02T18:51:33.535167",
     "exception": false,
     "start_time": "2020-12-02T18:51:33.493525",
     "status": "completed"
    },
    "tags": []
   },
   "source": [
    "## 2 - Creating a new dataframe only for data from Brazil"
   ]
  },
  {
   "cell_type": "code",
   "execution_count": 8,
   "metadata": {
    "execution": {
     "iopub.execute_input": "2020-12-02T18:51:33.634328Z",
     "iopub.status.busy": "2020-12-02T18:51:33.633196Z",
     "iopub.status.idle": "2020-12-02T18:51:33.658648Z",
     "shell.execute_reply": "2020-12-02T18:51:33.657940Z"
    },
    "papermill": {
     "duration": 0.081818,
     "end_time": "2020-12-02T18:51:33.658768",
     "exception": false,
     "start_time": "2020-12-02T18:51:33.576950",
     "status": "completed"
    },
    "tags": []
   },
   "outputs": [
    {
     "data": {
      "text/html": [
       "<div>\n",
       "<style scoped>\n",
       "    .dataframe tbody tr th:only-of-type {\n",
       "        vertical-align: middle;\n",
       "    }\n",
       "\n",
       "    .dataframe tbody tr th {\n",
       "        vertical-align: top;\n",
       "    }\n",
       "\n",
       "    .dataframe thead th {\n",
       "        text-align: right;\n",
       "    }\n",
       "</style>\n",
       "<table border=\"1\" class=\"dataframe\">\n",
       "  <thead>\n",
       "    <tr style=\"text-align: right;\">\n",
       "      <th></th>\n",
       "      <th>SNo</th>\n",
       "      <th>ObservationDate</th>\n",
       "      <th>Province/State</th>\n",
       "      <th>Country/Region</th>\n",
       "      <th>Last Update</th>\n",
       "      <th>Confirmed</th>\n",
       "      <th>Deaths</th>\n",
       "      <th>Recovered</th>\n",
       "      <th>Active</th>\n",
       "    </tr>\n",
       "  </thead>\n",
       "  <tbody>\n",
       "    <tr>\n",
       "      <th>82</th>\n",
       "      <td>83</td>\n",
       "      <td>01/23/2020</td>\n",
       "      <td>NaN</td>\n",
       "      <td>Brazil</td>\n",
       "      <td>1/23/20 17:00</td>\n",
       "      <td>0</td>\n",
       "      <td>0</td>\n",
       "      <td>0</td>\n",
       "      <td>0</td>\n",
       "    </tr>\n",
       "    <tr>\n",
       "      <th>2455</th>\n",
       "      <td>2456</td>\n",
       "      <td>02/26/2020</td>\n",
       "      <td>NaN</td>\n",
       "      <td>Brazil</td>\n",
       "      <td>2020-02-26T23:53:02</td>\n",
       "      <td>1</td>\n",
       "      <td>0</td>\n",
       "      <td>0</td>\n",
       "      <td>1</td>\n",
       "    </tr>\n",
       "    <tr>\n",
       "      <th>2559</th>\n",
       "      <td>2560</td>\n",
       "      <td>02/27/2020</td>\n",
       "      <td>NaN</td>\n",
       "      <td>Brazil</td>\n",
       "      <td>2020-02-26T23:53:02</td>\n",
       "      <td>1</td>\n",
       "      <td>0</td>\n",
       "      <td>0</td>\n",
       "      <td>1</td>\n",
       "    </tr>\n",
       "    <tr>\n",
       "      <th>2668</th>\n",
       "      <td>2669</td>\n",
       "      <td>02/28/2020</td>\n",
       "      <td>NaN</td>\n",
       "      <td>Brazil</td>\n",
       "      <td>2020-02-26T23:53:02</td>\n",
       "      <td>1</td>\n",
       "      <td>0</td>\n",
       "      <td>0</td>\n",
       "      <td>1</td>\n",
       "    </tr>\n",
       "    <tr>\n",
       "      <th>2776</th>\n",
       "      <td>2777</td>\n",
       "      <td>02/29/2020</td>\n",
       "      <td>NaN</td>\n",
       "      <td>Brazil</td>\n",
       "      <td>2020-02-29T21:03:05</td>\n",
       "      <td>2</td>\n",
       "      <td>0</td>\n",
       "      <td>0</td>\n",
       "      <td>2</td>\n",
       "    </tr>\n",
       "  </tbody>\n",
       "</table>\n",
       "</div>"
      ],
      "text/plain": [
       "       SNo ObservationDate Province/State Country/Region          Last Update  \\\n",
       "82      83      01/23/2020            NaN         Brazil        1/23/20 17:00   \n",
       "2455  2456      02/26/2020            NaN         Brazil  2020-02-26T23:53:02   \n",
       "2559  2560      02/27/2020            NaN         Brazil  2020-02-26T23:53:02   \n",
       "2668  2669      02/28/2020            NaN         Brazil  2020-02-26T23:53:02   \n",
       "2776  2777      02/29/2020            NaN         Brazil  2020-02-29T21:03:05   \n",
       "\n",
       "      Confirmed  Deaths  Recovered  Active  \n",
       "82            0       0          0       0  \n",
       "2455          1       0          0       1  \n",
       "2559          1       0          0       1  \n",
       "2668          1       0          0       1  \n",
       "2776          2       0          0       2  "
      ]
     },
     "execution_count": 8,
     "metadata": {},
     "output_type": "execute_result"
    }
   ],
   "source": [
    "df_brazil = covid[covid['Country/Region'] == 'Brazil']\n",
    "df_brazil.head()"
   ]
  },
  {
   "cell_type": "code",
   "execution_count": 9,
   "metadata": {
    "execution": {
     "iopub.execute_input": "2020-12-02T18:51:33.750338Z",
     "iopub.status.busy": "2020-12-02T18:51:33.749490Z",
     "iopub.status.idle": "2020-12-02T18:51:33.753524Z",
     "shell.execute_reply": "2020-12-02T18:51:33.752887Z"
    },
    "papermill": {
     "duration": 0.052098,
     "end_time": "2020-12-02T18:51:33.753641",
     "exception": false,
     "start_time": "2020-12-02T18:51:33.701543",
     "status": "completed"
    },
    "tags": []
   },
   "outputs": [
    {
     "data": {
      "text/plain": [
       "(4964, 9)"
      ]
     },
     "execution_count": 9,
     "metadata": {},
     "output_type": "execute_result"
    }
   ],
   "source": [
    "df_brazil.shape"
   ]
  },
  {
   "cell_type": "code",
   "execution_count": 10,
   "metadata": {
    "execution": {
     "iopub.execute_input": "2020-12-02T18:51:33.844448Z",
     "iopub.status.busy": "2020-12-02T18:51:33.843673Z",
     "iopub.status.idle": "2020-12-02T18:51:34.156606Z",
     "shell.execute_reply": "2020-12-02T18:51:34.155849Z"
    },
    "papermill": {
     "duration": 0.360074,
     "end_time": "2020-12-02T18:51:34.156733",
     "exception": false,
     "start_time": "2020-12-02T18:51:33.796659",
     "status": "completed"
    },
    "tags": []
   },
   "outputs": [],
   "source": [
    "#Saving as a new dataframe\n",
    "df_brazil.to_csv('covid_19_data_brazil.csv')\n",
    "df_brazil = pd.read_csv('covid_19_data_brazil.csv')"
   ]
  },
  {
   "cell_type": "code",
   "execution_count": 11,
   "metadata": {
    "execution": {
     "iopub.execute_input": "2020-12-02T18:51:34.262524Z",
     "iopub.status.busy": "2020-12-02T18:51:34.261510Z",
     "iopub.status.idle": "2020-12-02T18:51:34.265596Z",
     "shell.execute_reply": "2020-12-02T18:51:34.264911Z"
    },
    "papermill": {
     "duration": 0.064447,
     "end_time": "2020-12-02T18:51:34.265738",
     "exception": false,
     "start_time": "2020-12-02T18:51:34.201291",
     "status": "completed"
    },
    "tags": []
   },
   "outputs": [
    {
     "data": {
      "text/html": [
       "<div>\n",
       "<style scoped>\n",
       "    .dataframe tbody tr th:only-of-type {\n",
       "        vertical-align: middle;\n",
       "    }\n",
       "\n",
       "    .dataframe tbody tr th {\n",
       "        vertical-align: top;\n",
       "    }\n",
       "\n",
       "    .dataframe thead th {\n",
       "        text-align: right;\n",
       "    }\n",
       "</style>\n",
       "<table border=\"1\" class=\"dataframe\">\n",
       "  <thead>\n",
       "    <tr style=\"text-align: right;\">\n",
       "      <th></th>\n",
       "      <th>ObservationDate</th>\n",
       "      <th>Confirmed</th>\n",
       "      <th>Deaths</th>\n",
       "      <th>Recovered</th>\n",
       "      <th>Active</th>\n",
       "    </tr>\n",
       "  </thead>\n",
       "  <tbody>\n",
       "    <tr>\n",
       "      <th>0</th>\n",
       "      <td>11/15/2020</td>\n",
       "      <td>5863093</td>\n",
       "      <td>165798</td>\n",
       "      <td>5279452</td>\n",
       "      <td>417843</td>\n",
       "    </tr>\n",
       "  </tbody>\n",
       "</table>\n",
       "</div>"
      ],
      "text/plain": [
       "  ObservationDate  Confirmed  Deaths  Recovered  Active\n",
       "0      11/15/2020    5863093  165798    5279452  417843"
      ]
     },
     "execution_count": 11,
     "metadata": {},
     "output_type": "execute_result"
    }
   ],
   "source": [
    "\n",
    "df_brazil2 = df_brazil[df_brazil['ObservationDate'] == max(df_brazil['ObservationDate'])].reset_index()\n",
    "df_brazil_sum = df_brazil2.groupby([\"ObservationDate\"])[[\"Confirmed\", \"Deaths\",\"Recovered\", \"Active\"]].sum().reset_index()\n",
    "df_brazil_sum"
   ]
  },
  {
   "cell_type": "code",
   "execution_count": 12,
   "metadata": {
    "execution": {
     "iopub.execute_input": "2020-12-02T18:51:34.383512Z",
     "iopub.status.busy": "2020-12-02T18:51:34.378358Z",
     "iopub.status.idle": "2020-12-02T18:51:34.401905Z",
     "shell.execute_reply": "2020-12-02T18:51:34.401353Z"
    },
    "papermill": {
     "duration": 0.092022,
     "end_time": "2020-12-02T18:51:34.402024",
     "exception": false,
     "start_time": "2020-12-02T18:51:34.310002",
     "status": "completed"
    },
    "tags": []
   },
   "outputs": [
    {
     "data": {
      "text/html": [
       "<div>                            <div id=\"50bdce50-f662-45cf-9ab2-dd0dbcde570f\" class=\"plotly-graph-div\" style=\"height:525px; width:100%;\"></div>            <script type=\"text/javascript\">                require([\"plotly\"], function(Plotly) {                    window.PLOTLYENV=window.PLOTLYENV || {};                                    if (document.getElementById(\"50bdce50-f662-45cf-9ab2-dd0dbcde570f\")) {                    Plotly.newPlot(                        \"50bdce50-f662-45cf-9ab2-dd0dbcde570f\",                        [{\"domain\": {\"x\": [0.0, 1.0], \"y\": [0.0, 1.0]}, \"hole\": 0.5, \"hovertemplate\": \"label=%{label}<br>value=%{value}<extra></extra>\", \"labels\": [\"Recovered\", \"Deaths\", \"Active\"], \"legendgroup\": \"\", \"name\": \"\", \"showlegend\": true, \"type\": \"pie\", \"values\": [5279452, 165798, 417843]}],                        {\"legend\": {\"tracegroupgap\": 0}, \"margin\": {\"t\": 60}, \"piecolorway\": [\"#636EFA\", \"#FECB52\", \"#EF553B\"], \"template\": {\"data\": {\"bar\": [{\"error_x\": {\"color\": \"#2a3f5f\"}, \"error_y\": {\"color\": \"#2a3f5f\"}, \"marker\": {\"line\": {\"color\": \"#E5ECF6\", \"width\": 0.5}}, \"type\": \"bar\"}], \"barpolar\": [{\"marker\": {\"line\": {\"color\": \"#E5ECF6\", \"width\": 0.5}}, \"type\": \"barpolar\"}], \"carpet\": [{\"aaxis\": {\"endlinecolor\": \"#2a3f5f\", \"gridcolor\": \"white\", \"linecolor\": \"white\", \"minorgridcolor\": \"white\", \"startlinecolor\": \"#2a3f5f\"}, \"baxis\": {\"endlinecolor\": \"#2a3f5f\", \"gridcolor\": \"white\", \"linecolor\": \"white\", \"minorgridcolor\": \"white\", \"startlinecolor\": \"#2a3f5f\"}, \"type\": \"carpet\"}], \"choropleth\": [{\"colorbar\": {\"outlinewidth\": 0, \"ticks\": \"\"}, \"type\": \"choropleth\"}], \"contour\": [{\"colorbar\": {\"outlinewidth\": 0, \"ticks\": \"\"}, \"colorscale\": [[0.0, \"#0d0887\"], [0.1111111111111111, \"#46039f\"], [0.2222222222222222, \"#7201a8\"], [0.3333333333333333, \"#9c179e\"], [0.4444444444444444, \"#bd3786\"], [0.5555555555555556, \"#d8576b\"], [0.6666666666666666, \"#ed7953\"], [0.7777777777777778, \"#fb9f3a\"], [0.8888888888888888, \"#fdca26\"], [1.0, \"#f0f921\"]], \"type\": \"contour\"}], \"contourcarpet\": [{\"colorbar\": {\"outlinewidth\": 0, \"ticks\": \"\"}, \"type\": \"contourcarpet\"}], \"heatmap\": [{\"colorbar\": {\"outlinewidth\": 0, \"ticks\": \"\"}, \"colorscale\": [[0.0, \"#0d0887\"], [0.1111111111111111, \"#46039f\"], [0.2222222222222222, \"#7201a8\"], [0.3333333333333333, \"#9c179e\"], [0.4444444444444444, \"#bd3786\"], [0.5555555555555556, \"#d8576b\"], [0.6666666666666666, \"#ed7953\"], [0.7777777777777778, \"#fb9f3a\"], [0.8888888888888888, \"#fdca26\"], [1.0, \"#f0f921\"]], \"type\": \"heatmap\"}], \"heatmapgl\": [{\"colorbar\": {\"outlinewidth\": 0, \"ticks\": \"\"}, \"colorscale\": [[0.0, \"#0d0887\"], [0.1111111111111111, \"#46039f\"], [0.2222222222222222, \"#7201a8\"], [0.3333333333333333, \"#9c179e\"], [0.4444444444444444, \"#bd3786\"], [0.5555555555555556, \"#d8576b\"], [0.6666666666666666, \"#ed7953\"], [0.7777777777777778, \"#fb9f3a\"], [0.8888888888888888, \"#fdca26\"], [1.0, \"#f0f921\"]], \"type\": \"heatmapgl\"}], \"histogram\": [{\"marker\": {\"colorbar\": {\"outlinewidth\": 0, \"ticks\": \"\"}}, \"type\": \"histogram\"}], \"histogram2d\": [{\"colorbar\": {\"outlinewidth\": 0, \"ticks\": \"\"}, \"colorscale\": [[0.0, \"#0d0887\"], [0.1111111111111111, \"#46039f\"], [0.2222222222222222, \"#7201a8\"], [0.3333333333333333, \"#9c179e\"], [0.4444444444444444, \"#bd3786\"], [0.5555555555555556, \"#d8576b\"], [0.6666666666666666, \"#ed7953\"], [0.7777777777777778, \"#fb9f3a\"], [0.8888888888888888, \"#fdca26\"], [1.0, \"#f0f921\"]], \"type\": \"histogram2d\"}], \"histogram2dcontour\": [{\"colorbar\": {\"outlinewidth\": 0, \"ticks\": \"\"}, \"colorscale\": [[0.0, \"#0d0887\"], [0.1111111111111111, \"#46039f\"], [0.2222222222222222, \"#7201a8\"], [0.3333333333333333, \"#9c179e\"], [0.4444444444444444, \"#bd3786\"], [0.5555555555555556, \"#d8576b\"], [0.6666666666666666, \"#ed7953\"], [0.7777777777777778, \"#fb9f3a\"], [0.8888888888888888, \"#fdca26\"], [1.0, \"#f0f921\"]], \"type\": \"histogram2dcontour\"}], \"mesh3d\": [{\"colorbar\": {\"outlinewidth\": 0, \"ticks\": \"\"}, \"type\": \"mesh3d\"}], \"parcoords\": [{\"line\": {\"colorbar\": {\"outlinewidth\": 0, \"ticks\": \"\"}}, \"type\": \"parcoords\"}], \"pie\": [{\"automargin\": true, \"type\": \"pie\"}], \"scatter\": [{\"marker\": {\"colorbar\": {\"outlinewidth\": 0, \"ticks\": \"\"}}, \"type\": \"scatter\"}], \"scatter3d\": [{\"line\": {\"colorbar\": {\"outlinewidth\": 0, \"ticks\": \"\"}}, \"marker\": {\"colorbar\": {\"outlinewidth\": 0, \"ticks\": \"\"}}, \"type\": \"scatter3d\"}], \"scattercarpet\": [{\"marker\": {\"colorbar\": {\"outlinewidth\": 0, \"ticks\": \"\"}}, \"type\": \"scattercarpet\"}], \"scattergeo\": [{\"marker\": {\"colorbar\": {\"outlinewidth\": 0, \"ticks\": \"\"}}, \"type\": \"scattergeo\"}], \"scattergl\": [{\"marker\": {\"colorbar\": {\"outlinewidth\": 0, \"ticks\": \"\"}}, \"type\": \"scattergl\"}], \"scattermapbox\": [{\"marker\": {\"colorbar\": {\"outlinewidth\": 0, \"ticks\": \"\"}}, \"type\": \"scattermapbox\"}], \"scatterpolar\": [{\"marker\": {\"colorbar\": {\"outlinewidth\": 0, \"ticks\": \"\"}}, \"type\": \"scatterpolar\"}], \"scatterpolargl\": [{\"marker\": {\"colorbar\": {\"outlinewidth\": 0, \"ticks\": \"\"}}, \"type\": \"scatterpolargl\"}], \"scatterternary\": [{\"marker\": {\"colorbar\": {\"outlinewidth\": 0, \"ticks\": \"\"}}, \"type\": \"scatterternary\"}], \"surface\": [{\"colorbar\": {\"outlinewidth\": 0, \"ticks\": \"\"}, \"colorscale\": [[0.0, \"#0d0887\"], [0.1111111111111111, \"#46039f\"], [0.2222222222222222, \"#7201a8\"], [0.3333333333333333, \"#9c179e\"], [0.4444444444444444, \"#bd3786\"], [0.5555555555555556, \"#d8576b\"], [0.6666666666666666, \"#ed7953\"], [0.7777777777777778, \"#fb9f3a\"], [0.8888888888888888, \"#fdca26\"], [1.0, \"#f0f921\"]], \"type\": \"surface\"}], \"table\": [{\"cells\": {\"fill\": {\"color\": \"#EBF0F8\"}, \"line\": {\"color\": \"white\"}}, \"header\": {\"fill\": {\"color\": \"#C8D4E3\"}, \"line\": {\"color\": \"white\"}}, \"type\": \"table\"}]}, \"layout\": {\"annotationdefaults\": {\"arrowcolor\": \"#2a3f5f\", \"arrowhead\": 0, \"arrowwidth\": 1}, \"coloraxis\": {\"colorbar\": {\"outlinewidth\": 0, \"ticks\": \"\"}}, \"colorscale\": {\"diverging\": [[0, \"#8e0152\"], [0.1, \"#c51b7d\"], [0.2, \"#de77ae\"], [0.3, \"#f1b6da\"], [0.4, \"#fde0ef\"], [0.5, \"#f7f7f7\"], [0.6, \"#e6f5d0\"], [0.7, \"#b8e186\"], [0.8, \"#7fbc41\"], [0.9, \"#4d9221\"], [1, \"#276419\"]], \"sequential\": [[0.0, \"#0d0887\"], [0.1111111111111111, \"#46039f\"], [0.2222222222222222, \"#7201a8\"], [0.3333333333333333, \"#9c179e\"], [0.4444444444444444, \"#bd3786\"], [0.5555555555555556, \"#d8576b\"], [0.6666666666666666, \"#ed7953\"], [0.7777777777777778, \"#fb9f3a\"], [0.8888888888888888, \"#fdca26\"], [1.0, \"#f0f921\"]], \"sequentialminus\": [[0.0, \"#0d0887\"], [0.1111111111111111, \"#46039f\"], [0.2222222222222222, \"#7201a8\"], [0.3333333333333333, \"#9c179e\"], [0.4444444444444444, \"#bd3786\"], [0.5555555555555556, \"#d8576b\"], [0.6666666666666666, \"#ed7953\"], [0.7777777777777778, \"#fb9f3a\"], [0.8888888888888888, \"#fdca26\"], [1.0, \"#f0f921\"]]}, \"colorway\": [\"#636efa\", \"#EF553B\", \"#00cc96\", \"#ab63fa\", \"#FFA15A\", \"#19d3f3\", \"#FF6692\", \"#B6E880\", \"#FF97FF\", \"#FECB52\"], \"font\": {\"color\": \"#2a3f5f\"}, \"geo\": {\"bgcolor\": \"white\", \"lakecolor\": \"white\", \"landcolor\": \"#E5ECF6\", \"showlakes\": true, \"showland\": true, \"subunitcolor\": \"white\"}, \"hoverlabel\": {\"align\": \"left\"}, \"hovermode\": \"closest\", \"mapbox\": {\"style\": \"light\"}, \"paper_bgcolor\": \"white\", \"plot_bgcolor\": \"#E5ECF6\", \"polar\": {\"angularaxis\": {\"gridcolor\": \"white\", \"linecolor\": \"white\", \"ticks\": \"\"}, \"bgcolor\": \"#E5ECF6\", \"radialaxis\": {\"gridcolor\": \"white\", \"linecolor\": \"white\", \"ticks\": \"\"}}, \"scene\": {\"xaxis\": {\"backgroundcolor\": \"#E5ECF6\", \"gridcolor\": \"white\", \"gridwidth\": 2, \"linecolor\": \"white\", \"showbackground\": true, \"ticks\": \"\", \"zerolinecolor\": \"white\"}, \"yaxis\": {\"backgroundcolor\": \"#E5ECF6\", \"gridcolor\": \"white\", \"gridwidth\": 2, \"linecolor\": \"white\", \"showbackground\": true, \"ticks\": \"\", \"zerolinecolor\": \"white\"}, \"zaxis\": {\"backgroundcolor\": \"#E5ECF6\", \"gridcolor\": \"white\", \"gridwidth\": 2, \"linecolor\": \"white\", \"showbackground\": true, \"ticks\": \"\", \"zerolinecolor\": \"white\"}}, \"shapedefaults\": {\"line\": {\"color\": \"#2a3f5f\"}}, \"ternary\": {\"aaxis\": {\"gridcolor\": \"white\", \"linecolor\": \"white\", \"ticks\": \"\"}, \"baxis\": {\"gridcolor\": \"white\", \"linecolor\": \"white\", \"ticks\": \"\"}, \"bgcolor\": \"#E5ECF6\", \"caxis\": {\"gridcolor\": \"white\", \"linecolor\": \"white\", \"ticks\": \"\"}}, \"title\": {\"x\": 0.05}, \"xaxis\": {\"automargin\": true, \"gridcolor\": \"white\", \"linecolor\": \"white\", \"ticks\": \"\", \"title\": {\"standoff\": 15}, \"zerolinecolor\": \"white\", \"zerolinewidth\": 2}, \"yaxis\": {\"automargin\": true, \"gridcolor\": \"white\", \"linecolor\": \"white\", \"ticks\": \"\", \"title\": {\"standoff\": 15}, \"zerolinecolor\": \"white\", \"zerolinewidth\": 2}}}, \"title\": {\"text\": \"Total cases for Brazil on 11/15/2020 : 5863093\"}},                        {\"responsive\": true}                    ).then(function(){\n",
       "                            \n",
       "var gd = document.getElementById('50bdce50-f662-45cf-9ab2-dd0dbcde570f');\n",
       "var x = new MutationObserver(function (mutations, observer) {{\n",
       "        var display = window.getComputedStyle(gd).display;\n",
       "        if (!display || display === 'none') {{\n",
       "            console.log([gd, 'removed!']);\n",
       "            Plotly.purge(gd);\n",
       "            observer.disconnect();\n",
       "        }}\n",
       "}});\n",
       "\n",
       "// Listen for the removal of the full notebook cells\n",
       "var notebookContainer = gd.closest('#notebook-container');\n",
       "if (notebookContainer) {{\n",
       "    x.observe(notebookContainer, {childList: true});\n",
       "}}\n",
       "\n",
       "// Listen for the clearing of the current output cell\n",
       "var outputEl = gd.closest('.output');\n",
       "if (outputEl) {{\n",
       "    x.observe(outputEl, {childList: true});\n",
       "}}\n",
       "\n",
       "                        })                };                });            </script>        </div>"
      ]
     },
     "metadata": {},
     "output_type": "display_data"
    }
   ],
   "source": [
    "labels = [\"Recovered\",\"Deaths\", \"Active\"]\n",
    "values = df_brazil_sum.loc[0, [\"Recovered\",\"Deaths\", \"Active\"]]\n",
    "fig = px.pie(df_brazil_sum, values=values, names=labels,color_discrete_sequence=['#636EFA','#FECB52','#EF553B' ],hole=0.5)\n",
    "fig.update_layout(title='Total cases for Brazil on 11/15/2020 : '+str(df_brazil_sum[\"Confirmed\"][0]),)\n",
    "fig.show()"
   ]
  },
  {
   "cell_type": "markdown",
   "metadata": {
    "papermill": {
     "duration": 0.043981,
     "end_time": "2020-12-02T18:51:34.494654",
     "exception": false,
     "start_time": "2020-12-02T18:51:34.450673",
     "status": "completed"
    },
    "tags": []
   },
   "source": [
    "## 3 - EDA"
   ]
  },
  {
   "cell_type": "markdown",
   "metadata": {
    "papermill": {
     "duration": 0.044001,
     "end_time": "2020-12-02T18:51:34.583363",
     "exception": false,
     "start_time": "2020-12-02T18:51:34.539362",
     "status": "completed"
    },
    "tags": []
   },
   "source": [
    "#### Cleaning the dataframe from unnecessary data and NAN. "
   ]
  },
  {
   "cell_type": "code",
   "execution_count": 13,
   "metadata": {
    "execution": {
     "iopub.execute_input": "2020-12-02T18:51:34.679283Z",
     "iopub.status.busy": "2020-12-02T18:51:34.678264Z",
     "iopub.status.idle": "2020-12-02T18:51:34.681472Z",
     "shell.execute_reply": "2020-12-02T18:51:34.682040Z"
    },
    "papermill": {
     "duration": 0.054377,
     "end_time": "2020-12-02T18:51:34.682200",
     "exception": false,
     "start_time": "2020-12-02T18:51:34.627823",
     "status": "completed"
    },
    "tags": []
   },
   "outputs": [
    {
     "data": {
      "text/plain": [
       "Unnamed: 0          int64\n",
       "SNo                 int64\n",
       "ObservationDate    object\n",
       "Province/State     object\n",
       "Country/Region     object\n",
       "Last Update        object\n",
       "Confirmed           int64\n",
       "Deaths              int64\n",
       "Recovered           int64\n",
       "Active              int64\n",
       "dtype: object"
      ]
     },
     "execution_count": 13,
     "metadata": {},
     "output_type": "execute_result"
    }
   ],
   "source": [
    "df_brazil.dtypes"
   ]
  },
  {
   "cell_type": "code",
   "execution_count": 14,
   "metadata": {
    "execution": {
     "iopub.execute_input": "2020-12-02T18:51:34.776678Z",
     "iopub.status.busy": "2020-12-02T18:51:34.775978Z",
     "iopub.status.idle": "2020-12-02T18:51:34.786256Z",
     "shell.execute_reply": "2020-12-02T18:51:34.785598Z"
    },
    "papermill": {
     "duration": 0.059666,
     "end_time": "2020-12-02T18:51:34.786375",
     "exception": false,
     "start_time": "2020-12-02T18:51:34.726709",
     "status": "completed"
    },
    "tags": []
   },
   "outputs": [
    {
     "data": {
      "text/plain": [
       "0"
      ]
     },
     "execution_count": 14,
     "metadata": {},
     "output_type": "execute_result"
    }
   ],
   "source": [
    "df_brazil.duplicated().sum()"
   ]
  },
  {
   "cell_type": "code",
   "execution_count": 15,
   "metadata": {
    "execution": {
     "iopub.execute_input": "2020-12-02T18:51:34.883713Z",
     "iopub.status.busy": "2020-12-02T18:51:34.881634Z",
     "iopub.status.idle": "2020-12-02T18:51:34.888488Z",
     "shell.execute_reply": "2020-12-02T18:51:34.887780Z"
    },
    "papermill": {
     "duration": 0.057319,
     "end_time": "2020-12-02T18:51:34.888615",
     "exception": false,
     "start_time": "2020-12-02T18:51:34.831296",
     "status": "completed"
    },
    "tags": []
   },
   "outputs": [
    {
     "data": {
      "text/plain": [
       "Unnamed: 0          0\n",
       "SNo                 0\n",
       "ObservationDate     0\n",
       "Province/State     85\n",
       "Country/Region      0\n",
       "Last Update         0\n",
       "Confirmed           0\n",
       "Deaths              0\n",
       "Recovered           0\n",
       "Active              0\n",
       "dtype: int64"
      ]
     },
     "execution_count": 15,
     "metadata": {},
     "output_type": "execute_result"
    }
   ],
   "source": [
    "df_brazil.isnull().sum()"
   ]
  },
  {
   "cell_type": "code",
   "execution_count": 16,
   "metadata": {
    "execution": {
     "iopub.execute_input": "2020-12-02T18:51:34.986470Z",
     "iopub.status.busy": "2020-12-02T18:51:34.985693Z",
     "iopub.status.idle": "2020-12-02T18:51:34.989665Z",
     "shell.execute_reply": "2020-12-02T18:51:34.989032Z"
    },
    "papermill": {
     "duration": 0.05557,
     "end_time": "2020-12-02T18:51:34.989777",
     "exception": false,
     "start_time": "2020-12-02T18:51:34.934207",
     "status": "completed"
    },
    "tags": []
   },
   "outputs": [
    {
     "data": {
      "text/plain": [
       "array([nan, 'Acre', 'Alagoas', 'Amapa', 'Amazonas', 'Bahia', 'Ceara',\n",
       "       'Distrito Federal', 'Espirito Santo', 'Goias', 'Maranhao',\n",
       "       'Mato Grosso', 'Mato Grosso do Sul', 'Minas Gerais', 'Para',\n",
       "       'Paraiba', 'Parana', 'Pernambuco', 'Piaui', 'Rio Grande do Norte',\n",
       "       'Rio Grande do Sul', 'Rio de Janeiro', 'Rondonia', 'Roraima',\n",
       "       'Santa Catarina', 'Sao Paulo', 'Sergipe', 'Tocantins', 'Unknown'],\n",
       "      dtype=object)"
      ]
     },
     "execution_count": 16,
     "metadata": {},
     "output_type": "execute_result"
    }
   ],
   "source": [
    "df_brazil['Province/State'].unique()"
   ]
  },
  {
   "cell_type": "code",
   "execution_count": 17,
   "metadata": {
    "execution": {
     "iopub.execute_input": "2020-12-02T18:51:35.100576Z",
     "iopub.status.busy": "2020-12-02T18:51:35.099541Z",
     "iopub.status.idle": "2020-12-02T18:51:35.103852Z",
     "shell.execute_reply": "2020-12-02T18:51:35.103344Z"
    },
    "papermill": {
     "duration": 0.068625,
     "end_time": "2020-12-02T18:51:35.103962",
     "exception": false,
     "start_time": "2020-12-02T18:51:35.035337",
     "status": "completed"
    },
    "tags": []
   },
   "outputs": [
    {
     "data": {
      "text/html": [
       "<div>\n",
       "<style scoped>\n",
       "    .dataframe tbody tr th:only-of-type {\n",
       "        vertical-align: middle;\n",
       "    }\n",
       "\n",
       "    .dataframe tbody tr th {\n",
       "        vertical-align: top;\n",
       "    }\n",
       "\n",
       "    .dataframe thead th {\n",
       "        text-align: right;\n",
       "    }\n",
       "</style>\n",
       "<table border=\"1\" class=\"dataframe\">\n",
       "  <thead>\n",
       "    <tr style=\"text-align: right;\">\n",
       "      <th></th>\n",
       "      <th>Unnamed: 0</th>\n",
       "      <th>SNo</th>\n",
       "      <th>ObservationDate</th>\n",
       "      <th>Province/State</th>\n",
       "      <th>Country/Region</th>\n",
       "      <th>Last Update</th>\n",
       "      <th>Confirmed</th>\n",
       "      <th>Deaths</th>\n",
       "      <th>Recovered</th>\n",
       "      <th>Active</th>\n",
       "    </tr>\n",
       "  </thead>\n",
       "  <tbody>\n",
       "    <tr>\n",
       "      <th>112</th>\n",
       "      <td>27142</td>\n",
       "      <td>27143</td>\n",
       "      <td>05/20/2020</td>\n",
       "      <td>Unknown</td>\n",
       "      <td>Brazil</td>\n",
       "      <td>2020-05-21 02:32:48</td>\n",
       "      <td>0</td>\n",
       "      <td>0</td>\n",
       "      <td>116683</td>\n",
       "      <td>-116683</td>\n",
       "    </tr>\n",
       "    <tr>\n",
       "      <th>140</th>\n",
       "      <td>27594</td>\n",
       "      <td>27595</td>\n",
       "      <td>05/21/2020</td>\n",
       "      <td>Unknown</td>\n",
       "      <td>Brazil</td>\n",
       "      <td>2020-05-22 02:36:51</td>\n",
       "      <td>0</td>\n",
       "      <td>0</td>\n",
       "      <td>125960</td>\n",
       "      <td>-125960</td>\n",
       "    </tr>\n",
       "    <tr>\n",
       "      <th>168</th>\n",
       "      <td>28046</td>\n",
       "      <td>28047</td>\n",
       "      <td>05/22/2020</td>\n",
       "      <td>Unknown</td>\n",
       "      <td>Brazil</td>\n",
       "      <td>2020-05-23 02:32:42</td>\n",
       "      <td>0</td>\n",
       "      <td>0</td>\n",
       "      <td>135430</td>\n",
       "      <td>-135430</td>\n",
       "    </tr>\n",
       "    <tr>\n",
       "      <th>196</th>\n",
       "      <td>28498</td>\n",
       "      <td>28499</td>\n",
       "      <td>05/23/2020</td>\n",
       "      <td>Unknown</td>\n",
       "      <td>Brazil</td>\n",
       "      <td>2020-05-24 02:32:43</td>\n",
       "      <td>0</td>\n",
       "      <td>0</td>\n",
       "      <td>142587</td>\n",
       "      <td>-142587</td>\n",
       "    </tr>\n",
       "    <tr>\n",
       "      <th>224</th>\n",
       "      <td>28950</td>\n",
       "      <td>28951</td>\n",
       "      <td>05/24/2020</td>\n",
       "      <td>Unknown</td>\n",
       "      <td>Brazil</td>\n",
       "      <td>2020-05-25 02:32:44</td>\n",
       "      <td>0</td>\n",
       "      <td>0</td>\n",
       "      <td>149911</td>\n",
       "      <td>-149911</td>\n",
       "    </tr>\n",
       "    <tr>\n",
       "      <th>252</th>\n",
       "      <td>29402</td>\n",
       "      <td>29403</td>\n",
       "      <td>05/25/2020</td>\n",
       "      <td>Unknown</td>\n",
       "      <td>Brazil</td>\n",
       "      <td>2020-05-26 02:32:35</td>\n",
       "      <td>0</td>\n",
       "      <td>0</td>\n",
       "      <td>153833</td>\n",
       "      <td>-153833</td>\n",
       "    </tr>\n",
       "    <tr>\n",
       "      <th>280</th>\n",
       "      <td>29854</td>\n",
       "      <td>29855</td>\n",
       "      <td>05/26/2020</td>\n",
       "      <td>Unknown</td>\n",
       "      <td>Brazil</td>\n",
       "      <td>2020-05-27 02:32:31</td>\n",
       "      <td>0</td>\n",
       "      <td>0</td>\n",
       "      <td>158593</td>\n",
       "      <td>-158593</td>\n",
       "    </tr>\n",
       "    <tr>\n",
       "      <th>308</th>\n",
       "      <td>30306</td>\n",
       "      <td>30307</td>\n",
       "      <td>05/27/2020</td>\n",
       "      <td>Unknown</td>\n",
       "      <td>Brazil</td>\n",
       "      <td>2020-05-28 02:32:31</td>\n",
       "      <td>0</td>\n",
       "      <td>0</td>\n",
       "      <td>166647</td>\n",
       "      <td>-166647</td>\n",
       "    </tr>\n",
       "    <tr>\n",
       "      <th>336</th>\n",
       "      <td>30851</td>\n",
       "      <td>30852</td>\n",
       "      <td>05/28/2020</td>\n",
       "      <td>Unknown</td>\n",
       "      <td>Brazil</td>\n",
       "      <td>2020-05-29 02:32:50</td>\n",
       "      <td>0</td>\n",
       "      <td>0</td>\n",
       "      <td>177604</td>\n",
       "      <td>-177604</td>\n",
       "    </tr>\n",
       "    <tr>\n",
       "      <th>364</th>\n",
       "      <td>31405</td>\n",
       "      <td>31406</td>\n",
       "      <td>05/29/2020</td>\n",
       "      <td>Unknown</td>\n",
       "      <td>Brazil</td>\n",
       "      <td>2020-05-30 02:32:48</td>\n",
       "      <td>0</td>\n",
       "      <td>0</td>\n",
       "      <td>189476</td>\n",
       "      <td>-189476</td>\n",
       "    </tr>\n",
       "    <tr>\n",
       "      <th>392</th>\n",
       "      <td>31959</td>\n",
       "      <td>31960</td>\n",
       "      <td>05/30/2020</td>\n",
       "      <td>Unknown</td>\n",
       "      <td>Brazil</td>\n",
       "      <td>2020-05-31 02:32:45</td>\n",
       "      <td>0</td>\n",
       "      <td>0</td>\n",
       "      <td>200892</td>\n",
       "      <td>-200892</td>\n",
       "    </tr>\n",
       "    <tr>\n",
       "      <th>420</th>\n",
       "      <td>32514</td>\n",
       "      <td>32515</td>\n",
       "      <td>05/31/2020</td>\n",
       "      <td>Unknown</td>\n",
       "      <td>Brazil</td>\n",
       "      <td>2020-06-01 02:32:46</td>\n",
       "      <td>0</td>\n",
       "      <td>0</td>\n",
       "      <td>206555</td>\n",
       "      <td>-206555</td>\n",
       "    </tr>\n",
       "    <tr>\n",
       "      <th>448</th>\n",
       "      <td>33165</td>\n",
       "      <td>33166</td>\n",
       "      <td>06/01/2020</td>\n",
       "      <td>Unknown</td>\n",
       "      <td>Brazil</td>\n",
       "      <td>2020-06-02 02:33:08</td>\n",
       "      <td>0</td>\n",
       "      <td>0</td>\n",
       "      <td>211080</td>\n",
       "      <td>-211080</td>\n",
       "    </tr>\n",
       "    <tr>\n",
       "      <th>476</th>\n",
       "      <td>33828</td>\n",
       "      <td>33829</td>\n",
       "      <td>06/02/2020</td>\n",
       "      <td>Unknown</td>\n",
       "      <td>Brazil</td>\n",
       "      <td>2020-06-03 02:33:13</td>\n",
       "      <td>0</td>\n",
       "      <td>0</td>\n",
       "      <td>223638</td>\n",
       "      <td>-223638</td>\n",
       "    </tr>\n",
       "    <tr>\n",
       "      <th>504</th>\n",
       "      <td>34492</td>\n",
       "      <td>34493</td>\n",
       "      <td>06/03/2020</td>\n",
       "      <td>Unknown</td>\n",
       "      <td>Brazil</td>\n",
       "      <td>2020-06-04 02:33:14</td>\n",
       "      <td>0</td>\n",
       "      <td>0</td>\n",
       "      <td>238617</td>\n",
       "      <td>-238617</td>\n",
       "    </tr>\n",
       "    <tr>\n",
       "      <th>532</th>\n",
       "      <td>35156</td>\n",
       "      <td>35157</td>\n",
       "      <td>06/04/2020</td>\n",
       "      <td>Unknown</td>\n",
       "      <td>Brazil</td>\n",
       "      <td>2020-06-05 02:33:06</td>\n",
       "      <td>0</td>\n",
       "      <td>0</td>\n",
       "      <td>254963</td>\n",
       "      <td>-254963</td>\n",
       "    </tr>\n",
       "    <tr>\n",
       "      <th>560</th>\n",
       "      <td>35834</td>\n",
       "      <td>35835</td>\n",
       "      <td>06/05/2020</td>\n",
       "      <td>Unknown</td>\n",
       "      <td>Brazil</td>\n",
       "      <td>2020-06-06 02:33:00</td>\n",
       "      <td>0</td>\n",
       "      <td>0</td>\n",
       "      <td>266940</td>\n",
       "      <td>-266940</td>\n",
       "    </tr>\n",
       "    <tr>\n",
       "      <th>588</th>\n",
       "      <td>36518</td>\n",
       "      <td>36519</td>\n",
       "      <td>06/06/2020</td>\n",
       "      <td>Unknown</td>\n",
       "      <td>Brazil</td>\n",
       "      <td>2020-06-07 03:53:30</td>\n",
       "      <td>0</td>\n",
       "      <td>0</td>\n",
       "      <td>277149</td>\n",
       "      <td>-277149</td>\n",
       "    </tr>\n",
       "    <tr>\n",
       "      <th>616</th>\n",
       "      <td>37202</td>\n",
       "      <td>37203</td>\n",
       "      <td>06/07/2020</td>\n",
       "      <td>Unknown</td>\n",
       "      <td>Brazil</td>\n",
       "      <td>2020-06-08 03:33:22</td>\n",
       "      <td>0</td>\n",
       "      <td>0</td>\n",
       "      <td>283952</td>\n",
       "      <td>-283952</td>\n",
       "    </tr>\n",
       "  </tbody>\n",
       "</table>\n",
       "</div>"
      ],
      "text/plain": [
       "     Unnamed: 0    SNo ObservationDate Province/State Country/Region  \\\n",
       "112       27142  27143      05/20/2020        Unknown         Brazil   \n",
       "140       27594  27595      05/21/2020        Unknown         Brazil   \n",
       "168       28046  28047      05/22/2020        Unknown         Brazil   \n",
       "196       28498  28499      05/23/2020        Unknown         Brazil   \n",
       "224       28950  28951      05/24/2020        Unknown         Brazil   \n",
       "252       29402  29403      05/25/2020        Unknown         Brazil   \n",
       "280       29854  29855      05/26/2020        Unknown         Brazil   \n",
       "308       30306  30307      05/27/2020        Unknown         Brazil   \n",
       "336       30851  30852      05/28/2020        Unknown         Brazil   \n",
       "364       31405  31406      05/29/2020        Unknown         Brazil   \n",
       "392       31959  31960      05/30/2020        Unknown         Brazil   \n",
       "420       32514  32515      05/31/2020        Unknown         Brazil   \n",
       "448       33165  33166      06/01/2020        Unknown         Brazil   \n",
       "476       33828  33829      06/02/2020        Unknown         Brazil   \n",
       "504       34492  34493      06/03/2020        Unknown         Brazil   \n",
       "532       35156  35157      06/04/2020        Unknown         Brazil   \n",
       "560       35834  35835      06/05/2020        Unknown         Brazil   \n",
       "588       36518  36519      06/06/2020        Unknown         Brazil   \n",
       "616       37202  37203      06/07/2020        Unknown         Brazil   \n",
       "\n",
       "             Last Update  Confirmed  Deaths  Recovered  Active  \n",
       "112  2020-05-21 02:32:48          0       0     116683 -116683  \n",
       "140  2020-05-22 02:36:51          0       0     125960 -125960  \n",
       "168  2020-05-23 02:32:42          0       0     135430 -135430  \n",
       "196  2020-05-24 02:32:43          0       0     142587 -142587  \n",
       "224  2020-05-25 02:32:44          0       0     149911 -149911  \n",
       "252  2020-05-26 02:32:35          0       0     153833 -153833  \n",
       "280  2020-05-27 02:32:31          0       0     158593 -158593  \n",
       "308  2020-05-28 02:32:31          0       0     166647 -166647  \n",
       "336  2020-05-29 02:32:50          0       0     177604 -177604  \n",
       "364  2020-05-30 02:32:48          0       0     189476 -189476  \n",
       "392  2020-05-31 02:32:45          0       0     200892 -200892  \n",
       "420  2020-06-01 02:32:46          0       0     206555 -206555  \n",
       "448  2020-06-02 02:33:08          0       0     211080 -211080  \n",
       "476  2020-06-03 02:33:13          0       0     223638 -223638  \n",
       "504  2020-06-04 02:33:14          0       0     238617 -238617  \n",
       "532  2020-06-05 02:33:06          0       0     254963 -254963  \n",
       "560  2020-06-06 02:33:00          0       0     266940 -266940  \n",
       "588  2020-06-07 03:53:30          0       0     277149 -277149  \n",
       "616  2020-06-08 03:33:22          0       0     283952 -283952  "
      ]
     },
     "execution_count": 17,
     "metadata": {},
     "output_type": "execute_result"
    }
   ],
   "source": [
    "df_brazil[df_brazil['Province/State']=='Unknown']"
   ]
  },
  {
   "cell_type": "code",
   "execution_count": 18,
   "metadata": {
    "execution": {
     "iopub.execute_input": "2020-12-02T18:51:35.205355Z",
     "iopub.status.busy": "2020-12-02T18:51:35.204688Z",
     "iopub.status.idle": "2020-12-02T18:51:35.207837Z",
     "shell.execute_reply": "2020-12-02T18:51:35.207342Z"
    },
    "papermill": {
     "duration": 0.057311,
     "end_time": "2020-12-02T18:51:35.207946",
     "exception": false,
     "start_time": "2020-12-02T18:51:35.150635",
     "status": "completed"
    },
    "tags": []
   },
   "outputs": [],
   "source": [
    "df_brazil[\"Province/State\"]= df_brazil[\"Province/State\"].fillna('Unknown')"
   ]
  },
  {
   "cell_type": "code",
   "execution_count": 19,
   "metadata": {
    "execution": {
     "iopub.execute_input": "2020-12-02T18:51:35.307381Z",
     "iopub.status.busy": "2020-12-02T18:51:35.306387Z",
     "iopub.status.idle": "2020-12-02T18:51:35.310548Z",
     "shell.execute_reply": "2020-12-02T18:51:35.309927Z"
    },
    "papermill": {
     "duration": 0.056453,
     "end_time": "2020-12-02T18:51:35.310659",
     "exception": false,
     "start_time": "2020-12-02T18:51:35.254206",
     "status": "completed"
    },
    "tags": []
   },
   "outputs": [
    {
     "data": {
      "text/plain": [
       "array(['Unknown', 'Acre', 'Alagoas', 'Amapa', 'Amazonas', 'Bahia',\n",
       "       'Ceara', 'Distrito Federal', 'Espirito Santo', 'Goias', 'Maranhao',\n",
       "       'Mato Grosso', 'Mato Grosso do Sul', 'Minas Gerais', 'Para',\n",
       "       'Paraiba', 'Parana', 'Pernambuco', 'Piaui', 'Rio Grande do Norte',\n",
       "       'Rio Grande do Sul', 'Rio de Janeiro', 'Rondonia', 'Roraima',\n",
       "       'Santa Catarina', 'Sao Paulo', 'Sergipe', 'Tocantins'],\n",
       "      dtype=object)"
      ]
     },
     "execution_count": 19,
     "metadata": {},
     "output_type": "execute_result"
    }
   ],
   "source": [
    "df_brazil['Province/State'].unique()"
   ]
  },
  {
   "cell_type": "code",
   "execution_count": 20,
   "metadata": {
    "execution": {
     "iopub.execute_input": "2020-12-02T18:51:35.413646Z",
     "iopub.status.busy": "2020-12-02T18:51:35.412644Z",
     "iopub.status.idle": "2020-12-02T18:51:35.420403Z",
     "shell.execute_reply": "2020-12-02T18:51:35.419761Z"
    },
    "papermill": {
     "duration": 0.060443,
     "end_time": "2020-12-02T18:51:35.420522",
     "exception": false,
     "start_time": "2020-12-02T18:51:35.360079",
     "status": "completed"
    },
    "tags": []
   },
   "outputs": [
    {
     "data": {
      "text/plain": [
       "Unnamed: 0         0\n",
       "SNo                0\n",
       "ObservationDate    0\n",
       "Province/State     0\n",
       "Country/Region     0\n",
       "Last Update        0\n",
       "Confirmed          0\n",
       "Deaths             0\n",
       "Recovered          0\n",
       "Active             0\n",
       "dtype: int64"
      ]
     },
     "execution_count": 20,
     "metadata": {},
     "output_type": "execute_result"
    }
   ],
   "source": [
    "df_brazil.isnull().sum()"
   ]
  },
  {
   "cell_type": "markdown",
   "metadata": {
    "papermill": {
     "duration": 0.048904,
     "end_time": "2020-12-02T18:51:35.516978",
     "exception": false,
     "start_time": "2020-12-02T18:51:35.468074",
     "status": "completed"
    },
    "tags": []
   },
   "source": [
    "It is necessary to convert ObservationDate to datetime (it is an object). "
   ]
  },
  {
   "cell_type": "code",
   "execution_count": 21,
   "metadata": {
    "execution": {
     "iopub.execute_input": "2020-12-02T18:51:35.627299Z",
     "iopub.status.busy": "2020-12-02T18:51:35.626342Z",
     "iopub.status.idle": "2020-12-02T18:51:35.630919Z",
     "shell.execute_reply": "2020-12-02T18:51:35.630273Z"
    },
    "papermill": {
     "duration": 0.066382,
     "end_time": "2020-12-02T18:51:35.631037",
     "exception": false,
     "start_time": "2020-12-02T18:51:35.564655",
     "status": "completed"
    },
    "tags": []
   },
   "outputs": [
    {
     "data": {
      "text/plain": [
       "Unnamed: 0                  int64\n",
       "SNo                         int64\n",
       "ObservationDate    datetime64[ns]\n",
       "Province/State             object\n",
       "Country/Region             object\n",
       "Last Update                object\n",
       "Confirmed                   int64\n",
       "Deaths                      int64\n",
       "Recovered                   int64\n",
       "Active                      int64\n",
       "dtype: object"
      ]
     },
     "execution_count": 21,
     "metadata": {},
     "output_type": "execute_result"
    }
   ],
   "source": [
    "df_brazil['ObservationDate'] = pd.to_datetime(df_brazil['ObservationDate'])\n",
    "df_brazil.dtypes"
   ]
  },
  {
   "cell_type": "markdown",
   "metadata": {
    "papermill": {
     "duration": 0.048231,
     "end_time": "2020-12-02T18:51:35.727102",
     "exception": false,
     "start_time": "2020-12-02T18:51:35.678871",
     "status": "completed"
    },
    "tags": []
   },
   "source": [
    "Gathering datetime information by 'month'"
   ]
  },
  {
   "cell_type": "code",
   "execution_count": 22,
   "metadata": {
    "execution": {
     "iopub.execute_input": "2020-12-02T18:51:35.828421Z",
     "iopub.status.busy": "2020-12-02T18:51:35.827768Z",
     "iopub.status.idle": "2020-12-02T18:51:35.861689Z",
     "shell.execute_reply": "2020-12-02T18:51:35.861128Z"
    },
    "papermill": {
     "duration": 0.087085,
     "end_time": "2020-12-02T18:51:35.861808",
     "exception": false,
     "start_time": "2020-12-02T18:51:35.774723",
     "status": "completed"
    },
    "tags": []
   },
   "outputs": [
    {
     "data": {
      "text/html": [
       "<div>\n",
       "<style scoped>\n",
       "    .dataframe tbody tr th:only-of-type {\n",
       "        vertical-align: middle;\n",
       "    }\n",
       "\n",
       "    .dataframe tbody tr th {\n",
       "        vertical-align: top;\n",
       "    }\n",
       "\n",
       "    .dataframe thead th {\n",
       "        text-align: right;\n",
       "    }\n",
       "</style>\n",
       "<table border=\"1\" class=\"dataframe\">\n",
       "  <thead>\n",
       "    <tr style=\"text-align: right;\">\n",
       "      <th></th>\n",
       "      <th>Unnamed: 0</th>\n",
       "      <th>SNo</th>\n",
       "      <th>ObservationDate</th>\n",
       "      <th>Province/State</th>\n",
       "      <th>Country/Region</th>\n",
       "      <th>Last Update</th>\n",
       "      <th>Confirmed</th>\n",
       "      <th>Deaths</th>\n",
       "      <th>Recovered</th>\n",
       "      <th>Active</th>\n",
       "      <th>month</th>\n",
       "      <th>month_name</th>\n",
       "    </tr>\n",
       "  </thead>\n",
       "  <tbody>\n",
       "    <tr>\n",
       "      <th>0</th>\n",
       "      <td>82</td>\n",
       "      <td>83</td>\n",
       "      <td>2020-01-23</td>\n",
       "      <td>Unknown</td>\n",
       "      <td>Brazil</td>\n",
       "      <td>1/23/20 17:00</td>\n",
       "      <td>0</td>\n",
       "      <td>0</td>\n",
       "      <td>0</td>\n",
       "      <td>0</td>\n",
       "      <td>1</td>\n",
       "      <td>Jan</td>\n",
       "    </tr>\n",
       "    <tr>\n",
       "      <th>1</th>\n",
       "      <td>2455</td>\n",
       "      <td>2456</td>\n",
       "      <td>2020-02-26</td>\n",
       "      <td>Unknown</td>\n",
       "      <td>Brazil</td>\n",
       "      <td>2020-02-26T23:53:02</td>\n",
       "      <td>1</td>\n",
       "      <td>0</td>\n",
       "      <td>0</td>\n",
       "      <td>1</td>\n",
       "      <td>2</td>\n",
       "      <td>Feb</td>\n",
       "    </tr>\n",
       "    <tr>\n",
       "      <th>2</th>\n",
       "      <td>2559</td>\n",
       "      <td>2560</td>\n",
       "      <td>2020-02-27</td>\n",
       "      <td>Unknown</td>\n",
       "      <td>Brazil</td>\n",
       "      <td>2020-02-26T23:53:02</td>\n",
       "      <td>1</td>\n",
       "      <td>0</td>\n",
       "      <td>0</td>\n",
       "      <td>1</td>\n",
       "      <td>2</td>\n",
       "      <td>Feb</td>\n",
       "    </tr>\n",
       "    <tr>\n",
       "      <th>3</th>\n",
       "      <td>2668</td>\n",
       "      <td>2669</td>\n",
       "      <td>2020-02-28</td>\n",
       "      <td>Unknown</td>\n",
       "      <td>Brazil</td>\n",
       "      <td>2020-02-26T23:53:02</td>\n",
       "      <td>1</td>\n",
       "      <td>0</td>\n",
       "      <td>0</td>\n",
       "      <td>1</td>\n",
       "      <td>2</td>\n",
       "      <td>Feb</td>\n",
       "    </tr>\n",
       "    <tr>\n",
       "      <th>4</th>\n",
       "      <td>2776</td>\n",
       "      <td>2777</td>\n",
       "      <td>2020-02-29</td>\n",
       "      <td>Unknown</td>\n",
       "      <td>Brazil</td>\n",
       "      <td>2020-02-29T21:03:05</td>\n",
       "      <td>2</td>\n",
       "      <td>0</td>\n",
       "      <td>0</td>\n",
       "      <td>2</td>\n",
       "      <td>2</td>\n",
       "      <td>Feb</td>\n",
       "    </tr>\n",
       "  </tbody>\n",
       "</table>\n",
       "</div>"
      ],
      "text/plain": [
       "   Unnamed: 0   SNo ObservationDate Province/State Country/Region  \\\n",
       "0          82    83      2020-01-23        Unknown         Brazil   \n",
       "1        2455  2456      2020-02-26        Unknown         Brazil   \n",
       "2        2559  2560      2020-02-27        Unknown         Brazil   \n",
       "3        2668  2669      2020-02-28        Unknown         Brazil   \n",
       "4        2776  2777      2020-02-29        Unknown         Brazil   \n",
       "\n",
       "           Last Update  Confirmed  Deaths  Recovered  Active  month month_name  \n",
       "0        1/23/20 17:00          0       0          0       0      1        Jan  \n",
       "1  2020-02-26T23:53:02          1       0          0       1      2        Feb  \n",
       "2  2020-02-26T23:53:02          1       0          0       1      2        Feb  \n",
       "3  2020-02-26T23:53:02          1       0          0       1      2        Feb  \n",
       "4  2020-02-29T21:03:05          2       0          0       2      2        Feb  "
      ]
     },
     "execution_count": 22,
     "metadata": {},
     "output_type": "execute_result"
    }
   ],
   "source": [
    "df_brazil['month'] = pd.DatetimeIndex(df_brazil['ObservationDate']).month\n",
    "df_brazil['month_name'] = df_brazil['month'].apply(lambda x: calendar.month_abbr[x])\n",
    "df_brazil.head()"
   ]
  },
  {
   "cell_type": "markdown",
   "metadata": {
    "papermill": {
     "duration": 0.047712,
     "end_time": "2020-12-02T18:51:35.957195",
     "exception": false,
     "start_time": "2020-12-02T18:51:35.909483",
     "status": "completed"
    },
    "tags": []
   },
   "source": [
    "Ordering the information by date:"
   ]
  },
  {
   "cell_type": "code",
   "execution_count": 23,
   "metadata": {
    "execution": {
     "iopub.execute_input": "2020-12-02T18:51:36.058281Z",
     "iopub.status.busy": "2020-12-02T18:51:36.057567Z",
     "iopub.status.idle": "2020-12-02T18:51:36.063017Z",
     "shell.execute_reply": "2020-12-02T18:51:36.062526Z"
    },
    "papermill": {
     "duration": 0.058083,
     "end_time": "2020-12-02T18:51:36.063177",
     "exception": false,
     "start_time": "2020-12-02T18:51:36.005094",
     "status": "completed"
    },
    "tags": []
   },
   "outputs": [],
   "source": [
    "df_brazil_sorted = df_brazil.sort_values(\"month\", ascending=True)"
   ]
  },
  {
   "cell_type": "code",
   "execution_count": 24,
   "metadata": {
    "execution": {
     "iopub.execute_input": "2020-12-02T18:51:36.170978Z",
     "iopub.status.busy": "2020-12-02T18:51:36.169966Z",
     "iopub.status.idle": "2020-12-02T18:51:36.850515Z",
     "shell.execute_reply": "2020-12-02T18:51:36.851018Z"
    },
    "papermill": {
     "duration": 0.73873,
     "end_time": "2020-12-02T18:51:36.851178",
     "exception": false,
     "start_time": "2020-12-02T18:51:36.112448",
     "status": "completed"
    },
    "tags": []
   },
   "outputs": [
    {
     "data": {
      "image/png": "[encoded data removed]",
      "text/plain": [
       "<Figure size 1800x864 with 1 Axes>"
      ]
     },
     "metadata": {},
     "output_type": "display_data"
    }
   ],
   "source": [
    "#Visualizing the data:\n",
    "sns.set_style(\"whitegrid\") \n",
    "sns.set_palette(\"Set1\")\n",
    "plt.figure(figsize=(25, 12))\n",
    "sns.lineplot(data=df_brazil_sorted, x=df_brazil_sorted['month_name'], y=df_brazil_sorted['Confirmed'], color='red', sort=False, markers=True)\n",
    "plt.title('Evolution of COVID-19 Cases in Brazil by Month', fontsize= 24)\n",
    "plt.xlabel('Month', fontsize = 20)\n",
    "plt.ylabel('Confirmed Cases', fontsize=20);"
   ]
  },
  {
   "cell_type": "markdown",
   "metadata": {
    "papermill": {
     "duration": 0.050771,
     "end_time": "2020-12-02T18:51:36.953941",
     "exception": false,
     "start_time": "2020-12-02T18:51:36.903170",
     "status": "completed"
    },
    "tags": []
   },
   "source": [
    "### Evolution over time"
   ]
  },
  {
   "cell_type": "code",
   "execution_count": 25,
   "metadata": {
    "execution": {
     "iopub.execute_input": "2020-12-02T18:51:37.111600Z",
     "iopub.status.busy": "2020-12-02T18:51:37.110830Z",
     "iopub.status.idle": "2020-12-02T18:51:37.119558Z",
     "shell.execute_reply": "2020-12-02T18:51:37.120015Z"
    },
    "papermill": {
     "duration": 0.066825,
     "end_time": "2020-12-02T18:51:37.120189",
     "exception": false,
     "start_time": "2020-12-02T18:51:37.053364",
     "status": "completed"
    },
    "tags": []
   },
   "outputs": [],
   "source": [
    "df_sum = df_brazil_sorted.groupby('ObservationDate').agg(\n",
    "    {'Confirmed': 'sum', 'Deaths': 'sum', 'Recovered': 'sum', 'Active':'sum'}).reset_index()"
   ]
  },
  {
   "cell_type": "code",
   "execution_count": 26,
   "metadata": {
    "execution": {
     "iopub.execute_input": "2020-12-02T18:51:37.232662Z",
     "iopub.status.busy": "2020-12-02T18:51:37.229386Z",
     "iopub.status.idle": "2020-12-02T18:51:37.237098Z",
     "shell.execute_reply": "2020-12-02T18:51:37.236467Z"
    },
    "papermill": {
     "duration": 0.065889,
     "end_time": "2020-12-02T18:51:37.237220",
     "exception": false,
     "start_time": "2020-12-02T18:51:37.171331",
     "status": "completed"
    },
    "tags": []
   },
   "outputs": [
    {
     "data": {
      "text/html": [
       "<div>\n",
       "<style scoped>\n",
       "    .dataframe tbody tr th:only-of-type {\n",
       "        vertical-align: middle;\n",
       "    }\n",
       "\n",
       "    .dataframe tbody tr th {\n",
       "        vertical-align: top;\n",
       "    }\n",
       "\n",
       "    .dataframe thead th {\n",
       "        text-align: right;\n",
       "    }\n",
       "</style>\n",
       "<table border=\"1\" class=\"dataframe\">\n",
       "  <thead>\n",
       "    <tr style=\"text-align: right;\">\n",
       "      <th></th>\n",
       "      <th>ObservationDate</th>\n",
       "      <th>Confirmed</th>\n",
       "      <th>Deaths</th>\n",
       "      <th>Recovered</th>\n",
       "      <th>Active</th>\n",
       "    </tr>\n",
       "  </thead>\n",
       "  <tbody>\n",
       "    <tr>\n",
       "      <th>0</th>\n",
       "      <td>2020-01-23</td>\n",
       "      <td>0</td>\n",
       "      <td>0</td>\n",
       "      <td>0</td>\n",
       "      <td>0</td>\n",
       "    </tr>\n",
       "    <tr>\n",
       "      <th>1</th>\n",
       "      <td>2020-02-26</td>\n",
       "      <td>1</td>\n",
       "      <td>0</td>\n",
       "      <td>0</td>\n",
       "      <td>1</td>\n",
       "    </tr>\n",
       "    <tr>\n",
       "      <th>2</th>\n",
       "      <td>2020-02-27</td>\n",
       "      <td>1</td>\n",
       "      <td>0</td>\n",
       "      <td>0</td>\n",
       "      <td>1</td>\n",
       "    </tr>\n",
       "    <tr>\n",
       "      <th>3</th>\n",
       "      <td>2020-02-28</td>\n",
       "      <td>1</td>\n",
       "      <td>0</td>\n",
       "      <td>0</td>\n",
       "      <td>1</td>\n",
       "    </tr>\n",
       "    <tr>\n",
       "      <th>4</th>\n",
       "      <td>2020-02-29</td>\n",
       "      <td>2</td>\n",
       "      <td>0</td>\n",
       "      <td>0</td>\n",
       "      <td>2</td>\n",
       "    </tr>\n",
       "  </tbody>\n",
       "</table>\n",
       "</div>"
      ],
      "text/plain": [
       "  ObservationDate  Confirmed  Deaths  Recovered  Active\n",
       "0      2020-01-23          0       0          0       0\n",
       "1      2020-02-26          1       0          0       1\n",
       "2      2020-02-27          1       0          0       1\n",
       "3      2020-02-28          1       0          0       1\n",
       "4      2020-02-29          2       0          0       2"
      ]
     },
     "execution_count": 26,
     "metadata": {},
     "output_type": "execute_result"
    }
   ],
   "source": [
    "df_sum.head()"
   ]
  },
  {
   "cell_type": "code",
   "execution_count": 27,
   "metadata": {
    "execution": {
     "iopub.execute_input": "2020-12-02T18:51:37.350755Z",
     "iopub.status.busy": "2020-12-02T18:51:37.350005Z",
     "iopub.status.idle": "2020-12-02T18:51:37.353925Z",
     "shell.execute_reply": "2020-12-02T18:51:37.353447Z"
    },
    "papermill": {
     "duration": 0.065494,
     "end_time": "2020-12-02T18:51:37.354041",
     "exception": false,
     "start_time": "2020-12-02T18:51:37.288547",
     "status": "completed"
    },
    "tags": []
   },
   "outputs": [
    {
     "data": {
      "text/html": [
       "<div>\n",
       "<style scoped>\n",
       "    .dataframe tbody tr th:only-of-type {\n",
       "        vertical-align: middle;\n",
       "    }\n",
       "\n",
       "    .dataframe tbody tr th {\n",
       "        vertical-align: top;\n",
       "    }\n",
       "\n",
       "    .dataframe thead th {\n",
       "        text-align: right;\n",
       "    }\n",
       "</style>\n",
       "<table border=\"1\" class=\"dataframe\">\n",
       "  <thead>\n",
       "    <tr style=\"text-align: right;\">\n",
       "      <th></th>\n",
       "      <th>ObservationDate</th>\n",
       "      <th>Confirmed</th>\n",
       "      <th>Deaths</th>\n",
       "      <th>Recovered</th>\n",
       "      <th>Active</th>\n",
       "    </tr>\n",
       "  </thead>\n",
       "  <tbody>\n",
       "    <tr>\n",
       "      <th>260</th>\n",
       "      <td>2020-11-11</td>\n",
       "      <td>5747660</td>\n",
       "      <td>163368</td>\n",
       "      <td>5222937</td>\n",
       "      <td>361355</td>\n",
       "    </tr>\n",
       "    <tr>\n",
       "      <th>261</th>\n",
       "      <td>2020-11-12</td>\n",
       "      <td>5781582</td>\n",
       "      <td>164281</td>\n",
       "      <td>5254457</td>\n",
       "      <td>362844</td>\n",
       "    </tr>\n",
       "    <tr>\n",
       "      <th>262</th>\n",
       "      <td>2020-11-13</td>\n",
       "      <td>5810652</td>\n",
       "      <td>164737</td>\n",
       "      <td>5274812</td>\n",
       "      <td>371103</td>\n",
       "    </tr>\n",
       "    <tr>\n",
       "      <th>263</th>\n",
       "      <td>2020-11-14</td>\n",
       "      <td>5848959</td>\n",
       "      <td>165658</td>\n",
       "      <td>5279452</td>\n",
       "      <td>403849</td>\n",
       "    </tr>\n",
       "    <tr>\n",
       "      <th>264</th>\n",
       "      <td>2020-11-15</td>\n",
       "      <td>5863093</td>\n",
       "      <td>165798</td>\n",
       "      <td>5279452</td>\n",
       "      <td>417843</td>\n",
       "    </tr>\n",
       "  </tbody>\n",
       "</table>\n",
       "</div>"
      ],
      "text/plain": [
       "    ObservationDate  Confirmed  Deaths  Recovered  Active\n",
       "260      2020-11-11    5747660  163368    5222937  361355\n",
       "261      2020-11-12    5781582  164281    5254457  362844\n",
       "262      2020-11-13    5810652  164737    5274812  371103\n",
       "263      2020-11-14    5848959  165658    5279452  403849\n",
       "264      2020-11-15    5863093  165798    5279452  417843"
      ]
     },
     "execution_count": 27,
     "metadata": {},
     "output_type": "execute_result"
    }
   ],
   "source": [
    "df_sum.tail()"
   ]
  },
  {
   "cell_type": "code",
   "execution_count": 28,
   "metadata": {
    "execution": {
     "iopub.execute_input": "2020-12-02T18:51:37.470819Z",
     "iopub.status.busy": "2020-12-02T18:51:37.465646Z",
     "iopub.status.idle": "2020-12-02T18:51:37.860538Z",
     "shell.execute_reply": "2020-12-02T18:51:37.861085Z"
    },
    "papermill": {
     "duration": 0.455247,
     "end_time": "2020-12-02T18:51:37.861241",
     "exception": false,
     "start_time": "2020-12-02T18:51:37.405994",
     "status": "completed"
    },
    "tags": []
   },
   "outputs": [
    {
     "data": {
      "text/plain": [
       "Text(0, 0.5, 'Total Number')"
      ]
     },
     "execution_count": 28,
     "metadata": {},
     "output_type": "execute_result"
    },
    {
     "data": {
      "image/png": "[encoded data removed]",
      "text/plain": [
       "<Figure size 1584x864 with 1 Axes>"
      ]
     },
     "metadata": {},
     "output_type": "display_data"
    }
   ],
   "source": [
    "sns.set_palette(\"Set2\")\n",
    "#sns.set_style(\"darkgrid\") \n",
    "#plt.style.use('dark_background')\n",
    "sns.set_style(\"whitegrid\") \n",
    "\n",
    "plt.figure(figsize=(22, 12))\n",
    "plt.stackplot(df_sum['ObservationDate'], [df_sum['Deaths'],df_sum['Confirmed'], df_sum['Recovered'], df_sum['Active']],\n",
    "              labels = ['Deaths', 'Confirmed Cases', 'Recovered', 'Active'])\n",
    "plt.legend(loc = 'upper left', fontsize=16)\n",
    "plt.title('Evolution of COVID-19 Cases in Brazil by Observation Date', fontsize= 24)\n",
    "plt.xlabel('Observation Date', fontsize = 20)\n",
    "plt.ylabel('Total Number', fontsize=20)\n"
   ]
  },
  {
   "cell_type": "code",
   "execution_count": 29,
   "metadata": {
    "execution": {
     "iopub.execute_input": "2020-12-02T18:51:37.983751Z",
     "iopub.status.busy": "2020-12-02T18:51:37.979146Z",
     "iopub.status.idle": "2020-12-02T18:51:38.378535Z",
     "shell.execute_reply": "2020-12-02T18:51:38.377882Z"
    },
    "papermill": {
     "duration": 0.462929,
     "end_time": "2020-12-02T18:51:38.378650",
     "exception": false,
     "start_time": "2020-12-02T18:51:37.915721",
     "status": "completed"
    },
    "tags": []
   },
   "outputs": [
    {
     "data": {
      "image/png": "[encoded data removed]",
      "text/plain": [
       "<Figure size 1728x864 with 1 Axes>"
      ]
     },
     "metadata": {},
     "output_type": "display_data"
    }
   ],
   "source": [
    "#sns.set_palette(\"Set1\")\n",
    "#sns.set_style(\"darkgrid\") \n",
    "#plt.style.use('white_background')\n",
    "sns.set_style(\"whitegrid\") \n",
    "plt.figure(figsize = (24,12))\n",
    "plt. plot(df_sum['ObservationDate'], df_sum['Confirmed'] , label = \"Confirmed Cases\", linewidth=4, color='blue')\n",
    "plt. plot(df_sum['ObservationDate'], df_sum['Deaths'] , label = \"Deaths\", linewidth=4, color='red')\n",
    "plt. plot(df_sum['ObservationDate'], df_sum['Recovered'] , label = \"Recovered\", linewidth=4, color='c')\n",
    "plt. plot(df_sum['ObservationDate'], df_sum['Active'] , label = \"Active\", linewidth=4, color='yellow')\n",
    "plt.title('Evolution of COVID-19 Cases in Brazil by Observation Date', fontsize= 24)\n",
    "plt.xlabel('Observation Date', fontsize = 20)\n",
    "plt.ylabel('Total Number', fontsize=20);\n",
    "plt.legend(loc = 'upper left', fontsize=20);"
   ]
  },
  {
   "cell_type": "markdown",
   "metadata": {
    "papermill": {
     "duration": 0.056483,
     "end_time": "2020-12-02T18:51:38.491937",
     "exception": false,
     "start_time": "2020-12-02T18:51:38.435454",
     "status": "completed"
    },
    "tags": []
   },
   "source": [
    "## 4 -  Prediction Model"
   ]
  },
  {
   "cell_type": "code",
   "execution_count": 30,
   "metadata": {
    "execution": {
     "iopub.execute_input": "2020-12-02T18:51:38.616707Z",
     "iopub.status.busy": "2020-12-02T18:51:38.615996Z",
     "iopub.status.idle": "2020-12-02T18:51:38.651934Z",
     "shell.execute_reply": "2020-12-02T18:51:38.651187Z"
    },
    "papermill": {
     "duration": 0.102687,
     "end_time": "2020-12-02T18:51:38.652093",
     "exception": false,
     "start_time": "2020-12-02T18:51:38.549406",
     "status": "completed"
    },
    "tags": []
   },
   "outputs": [],
   "source": [
    "deaths_df = pd.read_csv('../input/novel-corona-virus-2019-dataset/time_series_covid_19_deaths.csv')"
   ]
  },
  {
   "cell_type": "code",
   "execution_count": 31,
   "metadata": {
    "execution": {
     "iopub.execute_input": "2020-12-02T18:51:38.771273Z",
     "iopub.status.busy": "2020-12-02T18:51:38.770483Z",
     "iopub.status.idle": "2020-12-02T18:51:38.775384Z",
     "shell.execute_reply": "2020-12-02T18:51:38.774858Z"
    },
    "papermill": {
     "duration": 0.066416,
     "end_time": "2020-12-02T18:51:38.775506",
     "exception": false,
     "start_time": "2020-12-02T18:51:38.709090",
     "status": "completed"
    },
    "tags": []
   },
   "outputs": [
    {
     "data": {
      "text/plain": [
       "(269, 303)"
      ]
     },
     "execution_count": 31,
     "metadata": {},
     "output_type": "execute_result"
    }
   ],
   "source": [
    "deaths_df.shape"
   ]
  },
  {
   "cell_type": "code",
   "execution_count": 32,
   "metadata": {
    "execution": {
     "iopub.execute_input": "2020-12-02T18:51:38.915744Z",
     "iopub.status.busy": "2020-12-02T18:51:38.914854Z",
     "iopub.status.idle": "2020-12-02T18:51:38.919622Z",
     "shell.execute_reply": "2020-12-02T18:51:38.918954Z"
    },
    "papermill": {
     "duration": 0.08176,
     "end_time": "2020-12-02T18:51:38.919752",
     "exception": false,
     "start_time": "2020-12-02T18:51:38.837992",
     "status": "completed"
    },
    "tags": []
   },
   "outputs": [
    {
     "data": {
      "text/html": [
       "<div>\n",
       "<style scoped>\n",
       "    .dataframe tbody tr th:only-of-type {\n",
       "        vertical-align: middle;\n",
       "    }\n",
       "\n",
       "    .dataframe tbody tr th {\n",
       "        vertical-align: top;\n",
       "    }\n",
       "\n",
       "    .dataframe thead th {\n",
       "        text-align: right;\n",
       "    }\n",
       "</style>\n",
       "<table border=\"1\" class=\"dataframe\">\n",
       "  <thead>\n",
       "    <tr style=\"text-align: right;\">\n",
       "      <th></th>\n",
       "      <th>Province/State</th>\n",
       "      <th>Country/Region</th>\n",
       "      <th>Lat</th>\n",
       "      <th>Long</th>\n",
       "      <th>1/22/20</th>\n",
       "      <th>1/23/20</th>\n",
       "      <th>1/24/20</th>\n",
       "      <th>1/25/20</th>\n",
       "      <th>1/26/20</th>\n",
       "      <th>1/27/20</th>\n",
       "      <th>...</th>\n",
       "      <th>11/6/20</th>\n",
       "      <th>11/7/20</th>\n",
       "      <th>11/8/20</th>\n",
       "      <th>11/9/20</th>\n",
       "      <th>11/10/20</th>\n",
       "      <th>11/11/20</th>\n",
       "      <th>11/12/20</th>\n",
       "      <th>11/13/20</th>\n",
       "      <th>11/14/20</th>\n",
       "      <th>11/15/20</th>\n",
       "    </tr>\n",
       "  </thead>\n",
       "  <tbody>\n",
       "    <tr>\n",
       "      <th>0</th>\n",
       "      <td>NaN</td>\n",
       "      <td>Afghanistan</td>\n",
       "      <td>33.93911</td>\n",
       "      <td>67.709953</td>\n",
       "      <td>0</td>\n",
       "      <td>0</td>\n",
       "      <td>0</td>\n",
       "      <td>0</td>\n",
       "      <td>0</td>\n",
       "      <td>0</td>\n",
       "      <td>...</td>\n",
       "      <td>1554</td>\n",
       "      <td>1556</td>\n",
       "      <td>1558</td>\n",
       "      <td>1574</td>\n",
       "      <td>1577</td>\n",
       "      <td>1581</td>\n",
       "      <td>1591</td>\n",
       "      <td>1595</td>\n",
       "      <td>1605</td>\n",
       "      <td>1617</td>\n",
       "    </tr>\n",
       "    <tr>\n",
       "      <th>1</th>\n",
       "      <td>NaN</td>\n",
       "      <td>Albania</td>\n",
       "      <td>41.15330</td>\n",
       "      <td>20.168300</td>\n",
       "      <td>0</td>\n",
       "      <td>0</td>\n",
       "      <td>0</td>\n",
       "      <td>0</td>\n",
       "      <td>0</td>\n",
       "      <td>0</td>\n",
       "      <td>...</td>\n",
       "      <td>549</td>\n",
       "      <td>557</td>\n",
       "      <td>559</td>\n",
       "      <td>571</td>\n",
       "      <td>579</td>\n",
       "      <td>590</td>\n",
       "      <td>598</td>\n",
       "      <td>605</td>\n",
       "      <td>612</td>\n",
       "      <td>623</td>\n",
       "    </tr>\n",
       "    <tr>\n",
       "      <th>2</th>\n",
       "      <td>NaN</td>\n",
       "      <td>Algeria</td>\n",
       "      <td>28.03390</td>\n",
       "      <td>1.659600</td>\n",
       "      <td>0</td>\n",
       "      <td>0</td>\n",
       "      <td>0</td>\n",
       "      <td>0</td>\n",
       "      <td>0</td>\n",
       "      <td>0</td>\n",
       "      <td>...</td>\n",
       "      <td>2024</td>\n",
       "      <td>2036</td>\n",
       "      <td>2048</td>\n",
       "      <td>2062</td>\n",
       "      <td>2077</td>\n",
       "      <td>2093</td>\n",
       "      <td>2111</td>\n",
       "      <td>2124</td>\n",
       "      <td>2139</td>\n",
       "      <td>2154</td>\n",
       "    </tr>\n",
       "    <tr>\n",
       "      <th>3</th>\n",
       "      <td>NaN</td>\n",
       "      <td>Andorra</td>\n",
       "      <td>42.50630</td>\n",
       "      <td>1.521800</td>\n",
       "      <td>0</td>\n",
       "      <td>0</td>\n",
       "      <td>0</td>\n",
       "      <td>0</td>\n",
       "      <td>0</td>\n",
       "      <td>0</td>\n",
       "      <td>...</td>\n",
       "      <td>75</td>\n",
       "      <td>75</td>\n",
       "      <td>75</td>\n",
       "      <td>75</td>\n",
       "      <td>75</td>\n",
       "      <td>75</td>\n",
       "      <td>75</td>\n",
       "      <td>75</td>\n",
       "      <td>75</td>\n",
       "      <td>76</td>\n",
       "    </tr>\n",
       "    <tr>\n",
       "      <th>4</th>\n",
       "      <td>NaN</td>\n",
       "      <td>Angola</td>\n",
       "      <td>-11.20270</td>\n",
       "      <td>17.873900</td>\n",
       "      <td>0</td>\n",
       "      <td>0</td>\n",
       "      <td>0</td>\n",
       "      <td>0</td>\n",
       "      <td>0</td>\n",
       "      <td>0</td>\n",
       "      <td>...</td>\n",
       "      <td>300</td>\n",
       "      <td>303</td>\n",
       "      <td>307</td>\n",
       "      <td>308</td>\n",
       "      <td>308</td>\n",
       "      <td>312</td>\n",
       "      <td>315</td>\n",
       "      <td>317</td>\n",
       "      <td>322</td>\n",
       "      <td>322</td>\n",
       "    </tr>\n",
       "  </tbody>\n",
       "</table>\n",
       "<p>5 rows × 303 columns</p>\n",
       "</div>"
      ],
      "text/plain": [
       "  Province/State Country/Region       Lat       Long  1/22/20  1/23/20  \\\n",
       "0            NaN    Afghanistan  33.93911  67.709953        0        0   \n",
       "1            NaN        Albania  41.15330  20.168300        0        0   \n",
       "2            NaN        Algeria  28.03390   1.659600        0        0   \n",
       "3            NaN        Andorra  42.50630   1.521800        0        0   \n",
       "4            NaN         Angola -11.20270  17.873900        0        0   \n",
       "\n",
       "   1/24/20  1/25/20  1/26/20  1/27/20  ...  11/6/20  11/7/20  11/8/20  \\\n",
       "0        0        0        0        0  ...     1554     1556     1558   \n",
       "1        0        0        0        0  ...      549      557      559   \n",
       "2        0        0        0        0  ...     2024     2036     2048   \n",
       "3        0        0        0        0  ...       75       75       75   \n",
       "4        0        0        0        0  ...      300      303      307   \n",
       "\n",
       "   11/9/20  11/10/20  11/11/20  11/12/20  11/13/20  11/14/20  11/15/20  \n",
       "0     1574      1577      1581      1591      1595      1605      1617  \n",
       "1      571       579       590       598       605       612       623  \n",
       "2     2062      2077      2093      2111      2124      2139      2154  \n",
       "3       75        75        75        75        75        75        76  \n",
       "4      308       308       312       315       317       322       322  \n",
       "\n",
       "[5 rows x 303 columns]"
      ]
     },
     "execution_count": 32,
     "metadata": {},
     "output_type": "execute_result"
    }
   ],
   "source": [
    "deaths_df.head()"
   ]
  },
  {
   "cell_type": "code",
   "execution_count": 33,
   "metadata": {
    "execution": {
     "iopub.execute_input": "2020-12-02T18:51:39.056200Z",
     "iopub.status.busy": "2020-12-02T18:51:39.055107Z",
     "iopub.status.idle": "2020-12-02T18:51:39.059329Z",
     "shell.execute_reply": "2020-12-02T18:51:39.058645Z"
    },
    "papermill": {
     "duration": 0.081012,
     "end_time": "2020-12-02T18:51:39.059469",
     "exception": false,
     "start_time": "2020-12-02T18:51:38.978457",
     "status": "completed"
    },
    "tags": []
   },
   "outputs": [
    {
     "data": {
      "text/html": [
       "<div>\n",
       "<style scoped>\n",
       "    .dataframe tbody tr th:only-of-type {\n",
       "        vertical-align: middle;\n",
       "    }\n",
       "\n",
       "    .dataframe tbody tr th {\n",
       "        vertical-align: top;\n",
       "    }\n",
       "\n",
       "    .dataframe thead th {\n",
       "        text-align: right;\n",
       "    }\n",
       "</style>\n",
       "<table border=\"1\" class=\"dataframe\">\n",
       "  <thead>\n",
       "    <tr style=\"text-align: right;\">\n",
       "      <th></th>\n",
       "      <th>Province/State</th>\n",
       "      <th>Country/Region</th>\n",
       "      <th>Lat</th>\n",
       "      <th>Long</th>\n",
       "      <th>1/22/20</th>\n",
       "      <th>1/23/20</th>\n",
       "      <th>1/24/20</th>\n",
       "      <th>1/25/20</th>\n",
       "      <th>1/26/20</th>\n",
       "      <th>1/27/20</th>\n",
       "      <th>...</th>\n",
       "      <th>11/6/20</th>\n",
       "      <th>11/7/20</th>\n",
       "      <th>11/8/20</th>\n",
       "      <th>11/9/20</th>\n",
       "      <th>11/10/20</th>\n",
       "      <th>11/11/20</th>\n",
       "      <th>11/12/20</th>\n",
       "      <th>11/13/20</th>\n",
       "      <th>11/14/20</th>\n",
       "      <th>11/15/20</th>\n",
       "    </tr>\n",
       "  </thead>\n",
       "  <tbody>\n",
       "    <tr>\n",
       "      <th>264</th>\n",
       "      <td>NaN</td>\n",
       "      <td>West Bank and Gaza</td>\n",
       "      <td>31.952200</td>\n",
       "      <td>35.233200</td>\n",
       "      <td>0</td>\n",
       "      <td>0</td>\n",
       "      <td>0</td>\n",
       "      <td>0</td>\n",
       "      <td>0</td>\n",
       "      <td>0</td>\n",
       "      <td>...</td>\n",
       "      <td>511</td>\n",
       "      <td>512</td>\n",
       "      <td>515</td>\n",
       "      <td>521</td>\n",
       "      <td>533</td>\n",
       "      <td>538</td>\n",
       "      <td>542</td>\n",
       "      <td>548</td>\n",
       "      <td>558</td>\n",
       "      <td>565</td>\n",
       "    </tr>\n",
       "    <tr>\n",
       "      <th>265</th>\n",
       "      <td>NaN</td>\n",
       "      <td>Western Sahara</td>\n",
       "      <td>24.215500</td>\n",
       "      <td>-12.885800</td>\n",
       "      <td>0</td>\n",
       "      <td>0</td>\n",
       "      <td>0</td>\n",
       "      <td>0</td>\n",
       "      <td>0</td>\n",
       "      <td>0</td>\n",
       "      <td>...</td>\n",
       "      <td>1</td>\n",
       "      <td>1</td>\n",
       "      <td>1</td>\n",
       "      <td>1</td>\n",
       "      <td>1</td>\n",
       "      <td>1</td>\n",
       "      <td>1</td>\n",
       "      <td>1</td>\n",
       "      <td>1</td>\n",
       "      <td>1</td>\n",
       "    </tr>\n",
       "    <tr>\n",
       "      <th>266</th>\n",
       "      <td>NaN</td>\n",
       "      <td>Yemen</td>\n",
       "      <td>15.552727</td>\n",
       "      <td>48.516388</td>\n",
       "      <td>0</td>\n",
       "      <td>0</td>\n",
       "      <td>0</td>\n",
       "      <td>0</td>\n",
       "      <td>0</td>\n",
       "      <td>0</td>\n",
       "      <td>...</td>\n",
       "      <td>602</td>\n",
       "      <td>602</td>\n",
       "      <td>602</td>\n",
       "      <td>605</td>\n",
       "      <td>605</td>\n",
       "      <td>605</td>\n",
       "      <td>605</td>\n",
       "      <td>605</td>\n",
       "      <td>605</td>\n",
       "      <td>605</td>\n",
       "    </tr>\n",
       "    <tr>\n",
       "      <th>267</th>\n",
       "      <td>NaN</td>\n",
       "      <td>Zambia</td>\n",
       "      <td>-13.133897</td>\n",
       "      <td>27.849332</td>\n",
       "      <td>0</td>\n",
       "      <td>0</td>\n",
       "      <td>0</td>\n",
       "      <td>0</td>\n",
       "      <td>0</td>\n",
       "      <td>0</td>\n",
       "      <td>...</td>\n",
       "      <td>349</td>\n",
       "      <td>349</td>\n",
       "      <td>349</td>\n",
       "      <td>349</td>\n",
       "      <td>350</td>\n",
       "      <td>350</td>\n",
       "      <td>350</td>\n",
       "      <td>350</td>\n",
       "      <td>350</td>\n",
       "      <td>353</td>\n",
       "    </tr>\n",
       "    <tr>\n",
       "      <th>268</th>\n",
       "      <td>NaN</td>\n",
       "      <td>Zimbabwe</td>\n",
       "      <td>-19.015438</td>\n",
       "      <td>29.154857</td>\n",
       "      <td>0</td>\n",
       "      <td>0</td>\n",
       "      <td>0</td>\n",
       "      <td>0</td>\n",
       "      <td>0</td>\n",
       "      <td>0</td>\n",
       "      <td>...</td>\n",
       "      <td>250</td>\n",
       "      <td>251</td>\n",
       "      <td>253</td>\n",
       "      <td>254</td>\n",
       "      <td>255</td>\n",
       "      <td>255</td>\n",
       "      <td>255</td>\n",
       "      <td>257</td>\n",
       "      <td>257</td>\n",
       "      <td>257</td>\n",
       "    </tr>\n",
       "  </tbody>\n",
       "</table>\n",
       "<p>5 rows × 303 columns</p>\n",
       "</div>"
      ],
      "text/plain": [
       "    Province/State      Country/Region        Lat       Long  1/22/20  \\\n",
       "264            NaN  West Bank and Gaza  31.952200  35.233200        0   \n",
       "265            NaN      Western Sahara  24.215500 -12.885800        0   \n",
       "266            NaN               Yemen  15.552727  48.516388        0   \n",
       "267            NaN              Zambia -13.133897  27.849332        0   \n",
       "268            NaN            Zimbabwe -19.015438  29.154857        0   \n",
       "\n",
       "     1/23/20  1/24/20  1/25/20  1/26/20  1/27/20  ...  11/6/20  11/7/20  \\\n",
       "264        0        0        0        0        0  ...      511      512   \n",
       "265        0        0        0        0        0  ...        1        1   \n",
       "266        0        0        0        0        0  ...      602      602   \n",
       "267        0        0        0        0        0  ...      349      349   \n",
       "268        0        0        0        0        0  ...      250      251   \n",
       "\n",
       "     11/8/20  11/9/20  11/10/20  11/11/20  11/12/20  11/13/20  11/14/20  \\\n",
       "264      515      521       533       538       542       548       558   \n",
       "265        1        1         1         1         1         1         1   \n",
       "266      602      605       605       605       605       605       605   \n",
       "267      349      349       350       350       350       350       350   \n",
       "268      253      254       255       255       255       257       257   \n",
       "\n",
       "     11/15/20  \n",
       "264       565  \n",
       "265         1  \n",
       "266       605  \n",
       "267       353  \n",
       "268       257  \n",
       "\n",
       "[5 rows x 303 columns]"
      ]
     },
     "execution_count": 33,
     "metadata": {},
     "output_type": "execute_result"
    }
   ],
   "source": [
    "deaths_df.tail()"
   ]
  },
  {
   "cell_type": "code",
   "execution_count": 34,
   "metadata": {
    "execution": {
     "iopub.execute_input": "2020-12-02T18:51:39.196799Z",
     "iopub.status.busy": "2020-12-02T18:51:39.189985Z",
     "iopub.status.idle": "2020-12-02T18:51:39.201120Z",
     "shell.execute_reply": "2020-12-02T18:51:39.200474Z"
    },
    "papermill": {
     "duration": 0.082105,
     "end_time": "2020-12-02T18:51:39.201251",
     "exception": false,
     "start_time": "2020-12-02T18:51:39.119146",
     "status": "completed"
    },
    "tags": []
   },
   "outputs": [
    {
     "data": {
      "text/html": [
       "<div>\n",
       "<style scoped>\n",
       "    .dataframe tbody tr th:only-of-type {\n",
       "        vertical-align: middle;\n",
       "    }\n",
       "\n",
       "    .dataframe tbody tr th {\n",
       "        vertical-align: top;\n",
       "    }\n",
       "\n",
       "    .dataframe thead th {\n",
       "        text-align: right;\n",
       "    }\n",
       "</style>\n",
       "<table border=\"1\" class=\"dataframe\">\n",
       "  <thead>\n",
       "    <tr style=\"text-align: right;\">\n",
       "      <th></th>\n",
       "      <th>Province/State</th>\n",
       "      <th>Country/Region</th>\n",
       "      <th>Lat</th>\n",
       "      <th>Long</th>\n",
       "      <th>1/22/20</th>\n",
       "      <th>1/23/20</th>\n",
       "      <th>1/24/20</th>\n",
       "      <th>1/25/20</th>\n",
       "      <th>1/26/20</th>\n",
       "      <th>1/27/20</th>\n",
       "      <th>...</th>\n",
       "      <th>11/6/20</th>\n",
       "      <th>11/7/20</th>\n",
       "      <th>11/8/20</th>\n",
       "      <th>11/9/20</th>\n",
       "      <th>11/10/20</th>\n",
       "      <th>11/11/20</th>\n",
       "      <th>11/12/20</th>\n",
       "      <th>11/13/20</th>\n",
       "      <th>11/14/20</th>\n",
       "      <th>11/15/20</th>\n",
       "    </tr>\n",
       "  </thead>\n",
       "  <tbody>\n",
       "    <tr>\n",
       "      <th>30</th>\n",
       "      <td>NaN</td>\n",
       "      <td>Brazil</td>\n",
       "      <td>-14.235</td>\n",
       "      <td>-51.9253</td>\n",
       "      <td>0</td>\n",
       "      <td>0</td>\n",
       "      <td>0</td>\n",
       "      <td>0</td>\n",
       "      <td>0</td>\n",
       "      <td>0</td>\n",
       "      <td>...</td>\n",
       "      <td>162015</td>\n",
       "      <td>162269</td>\n",
       "      <td>162397</td>\n",
       "      <td>162628</td>\n",
       "      <td>162802</td>\n",
       "      <td>163368</td>\n",
       "      <td>164281</td>\n",
       "      <td>164737</td>\n",
       "      <td>165658</td>\n",
       "      <td>165798</td>\n",
       "    </tr>\n",
       "  </tbody>\n",
       "</table>\n",
       "<p>1 rows × 303 columns</p>\n",
       "</div>"
      ],
      "text/plain": [
       "   Province/State Country/Region     Lat     Long  1/22/20  1/23/20  1/24/20  \\\n",
       "30            NaN         Brazil -14.235 -51.9253        0        0        0   \n",
       "\n",
       "    1/25/20  1/26/20  1/27/20  ...  11/6/20  11/7/20  11/8/20  11/9/20  \\\n",
       "30        0        0        0  ...   162015   162269   162397   162628   \n",
       "\n",
       "    11/10/20  11/11/20  11/12/20  11/13/20  11/14/20  11/15/20  \n",
       "30    162802    163368    164281    164737    165658    165798  \n",
       "\n",
       "[1 rows x 303 columns]"
      ]
     },
     "execution_count": 34,
     "metadata": {},
     "output_type": "execute_result"
    }
   ],
   "source": [
    "#Filtering the data for Brazil: \n",
    "\n",
    "deaths_df[deaths_df['Country/Region'] == 'Brazil']"
   ]
  },
  {
   "cell_type": "code",
   "execution_count": 35,
   "metadata": {
    "execution": {
     "iopub.execute_input": "2020-12-02T18:51:39.328375Z",
     "iopub.status.busy": "2020-12-02T18:51:39.327416Z",
     "iopub.status.idle": "2020-12-02T18:51:39.332074Z",
     "shell.execute_reply": "2020-12-02T18:51:39.331377Z"
    },
    "papermill": {
     "duration": 0.071445,
     "end_time": "2020-12-02T18:51:39.332192",
     "exception": false,
     "start_time": "2020-12-02T18:51:39.260747",
     "status": "completed"
    },
    "tags": []
   },
   "outputs": [
    {
     "data": {
      "text/plain": [
       "Index(['Province/State', 'Country/Region', 'Lat', 'Long', '1/22/20', '1/23/20',\n",
       "       '1/24/20', '1/25/20', '1/26/20', '1/27/20',\n",
       "       ...\n",
       "       '11/6/20', '11/7/20', '11/8/20', '11/9/20', '11/10/20', '11/11/20',\n",
       "       '11/12/20', '11/13/20', '11/14/20', '11/15/20'],\n",
       "      dtype='object', length=303)"
      ]
     },
     "execution_count": 35,
     "metadata": {},
     "output_type": "execute_result"
    }
   ],
   "source": [
    "columns = deaths_df.keys()\n",
    "columns"
   ]
  },
  {
   "cell_type": "code",
   "execution_count": 36,
   "metadata": {
    "execution": {
     "iopub.execute_input": "2020-12-02T18:51:39.464524Z",
     "iopub.status.busy": "2020-12-02T18:51:39.463817Z",
     "iopub.status.idle": "2020-12-02T18:51:39.475527Z",
     "shell.execute_reply": "2020-12-02T18:51:39.475024Z"
    },
    "papermill": {
     "duration": 0.083137,
     "end_time": "2020-12-02T18:51:39.475643",
     "exception": false,
     "start_time": "2020-12-02T18:51:39.392506",
     "status": "completed"
    },
    "tags": []
   },
   "outputs": [
    {
     "data": {
      "text/html": [
       "<div>\n",
       "<style scoped>\n",
       "    .dataframe tbody tr th:only-of-type {\n",
       "        vertical-align: middle;\n",
       "    }\n",
       "\n",
       "    .dataframe tbody tr th {\n",
       "        vertical-align: top;\n",
       "    }\n",
       "\n",
       "    .dataframe thead th {\n",
       "        text-align: right;\n",
       "    }\n",
       "</style>\n",
       "<table border=\"1\" class=\"dataframe\">\n",
       "  <thead>\n",
       "    <tr style=\"text-align: right;\">\n",
       "      <th></th>\n",
       "      <th>1/22/20</th>\n",
       "      <th>1/23/20</th>\n",
       "      <th>1/24/20</th>\n",
       "      <th>1/25/20</th>\n",
       "      <th>1/26/20</th>\n",
       "      <th>1/27/20</th>\n",
       "      <th>1/28/20</th>\n",
       "      <th>1/29/20</th>\n",
       "      <th>1/30/20</th>\n",
       "      <th>1/31/20</th>\n",
       "      <th>...</th>\n",
       "      <th>11/6/20</th>\n",
       "      <th>11/7/20</th>\n",
       "      <th>11/8/20</th>\n",
       "      <th>11/9/20</th>\n",
       "      <th>11/10/20</th>\n",
       "      <th>11/11/20</th>\n",
       "      <th>11/12/20</th>\n",
       "      <th>11/13/20</th>\n",
       "      <th>11/14/20</th>\n",
       "      <th>11/15/20</th>\n",
       "    </tr>\n",
       "  </thead>\n",
       "  <tbody>\n",
       "    <tr>\n",
       "      <th>0</th>\n",
       "      <td>0</td>\n",
       "      <td>0</td>\n",
       "      <td>0</td>\n",
       "      <td>0</td>\n",
       "      <td>0</td>\n",
       "      <td>0</td>\n",
       "      <td>0</td>\n",
       "      <td>0</td>\n",
       "      <td>0</td>\n",
       "      <td>0</td>\n",
       "      <td>...</td>\n",
       "      <td>1554</td>\n",
       "      <td>1556</td>\n",
       "      <td>1558</td>\n",
       "      <td>1574</td>\n",
       "      <td>1577</td>\n",
       "      <td>1581</td>\n",
       "      <td>1591</td>\n",
       "      <td>1595</td>\n",
       "      <td>1605</td>\n",
       "      <td>1617</td>\n",
       "    </tr>\n",
       "    <tr>\n",
       "      <th>1</th>\n",
       "      <td>0</td>\n",
       "      <td>0</td>\n",
       "      <td>0</td>\n",
       "      <td>0</td>\n",
       "      <td>0</td>\n",
       "      <td>0</td>\n",
       "      <td>0</td>\n",
       "      <td>0</td>\n",
       "      <td>0</td>\n",
       "      <td>0</td>\n",
       "      <td>...</td>\n",
       "      <td>549</td>\n",
       "      <td>557</td>\n",
       "      <td>559</td>\n",
       "      <td>571</td>\n",
       "      <td>579</td>\n",
       "      <td>590</td>\n",
       "      <td>598</td>\n",
       "      <td>605</td>\n",
       "      <td>612</td>\n",
       "      <td>623</td>\n",
       "    </tr>\n",
       "    <tr>\n",
       "      <th>2</th>\n",
       "      <td>0</td>\n",
       "      <td>0</td>\n",
       "      <td>0</td>\n",
       "      <td>0</td>\n",
       "      <td>0</td>\n",
       "      <td>0</td>\n",
       "      <td>0</td>\n",
       "      <td>0</td>\n",
       "      <td>0</td>\n",
       "      <td>0</td>\n",
       "      <td>...</td>\n",
       "      <td>2024</td>\n",
       "      <td>2036</td>\n",
       "      <td>2048</td>\n",
       "      <td>2062</td>\n",
       "      <td>2077</td>\n",
       "      <td>2093</td>\n",
       "      <td>2111</td>\n",
       "      <td>2124</td>\n",
       "      <td>2139</td>\n",
       "      <td>2154</td>\n",
       "    </tr>\n",
       "    <tr>\n",
       "      <th>3</th>\n",
       "      <td>0</td>\n",
       "      <td>0</td>\n",
       "      <td>0</td>\n",
       "      <td>0</td>\n",
       "      <td>0</td>\n",
       "      <td>0</td>\n",
       "      <td>0</td>\n",
       "      <td>0</td>\n",
       "      <td>0</td>\n",
       "      <td>0</td>\n",
       "      <td>...</td>\n",
       "      <td>75</td>\n",
       "      <td>75</td>\n",
       "      <td>75</td>\n",
       "      <td>75</td>\n",
       "      <td>75</td>\n",
       "      <td>75</td>\n",
       "      <td>75</td>\n",
       "      <td>75</td>\n",
       "      <td>75</td>\n",
       "      <td>76</td>\n",
       "    </tr>\n",
       "    <tr>\n",
       "      <th>4</th>\n",
       "      <td>0</td>\n",
       "      <td>0</td>\n",
       "      <td>0</td>\n",
       "      <td>0</td>\n",
       "      <td>0</td>\n",
       "      <td>0</td>\n",
       "      <td>0</td>\n",
       "      <td>0</td>\n",
       "      <td>0</td>\n",
       "      <td>0</td>\n",
       "      <td>...</td>\n",
       "      <td>300</td>\n",
       "      <td>303</td>\n",
       "      <td>307</td>\n",
       "      <td>308</td>\n",
       "      <td>308</td>\n",
       "      <td>312</td>\n",
       "      <td>315</td>\n",
       "      <td>317</td>\n",
       "      <td>322</td>\n",
       "      <td>322</td>\n",
       "    </tr>\n",
       "  </tbody>\n",
       "</table>\n",
       "<p>5 rows × 299 columns</p>\n",
       "</div>"
      ],
      "text/plain": [
       "   1/22/20  1/23/20  1/24/20  1/25/20  1/26/20  1/27/20  1/28/20  1/29/20  \\\n",
       "0        0        0        0        0        0        0        0        0   \n",
       "1        0        0        0        0        0        0        0        0   \n",
       "2        0        0        0        0        0        0        0        0   \n",
       "3        0        0        0        0        0        0        0        0   \n",
       "4        0        0        0        0        0        0        0        0   \n",
       "\n",
       "   1/30/20  1/31/20  ...  11/6/20  11/7/20  11/8/20  11/9/20  11/10/20  \\\n",
       "0        0        0  ...     1554     1556     1558     1574      1577   \n",
       "1        0        0  ...      549      557      559      571       579   \n",
       "2        0        0  ...     2024     2036     2048     2062      2077   \n",
       "3        0        0  ...       75       75       75       75        75   \n",
       "4        0        0  ...      300      303      307      308       308   \n",
       "\n",
       "   11/11/20  11/12/20  11/13/20  11/14/20  11/15/20  \n",
       "0      1581      1591      1595      1605      1617  \n",
       "1       590       598       605       612       623  \n",
       "2      2093      2111      2124      2139      2154  \n",
       "3        75        75        75        75        76  \n",
       "4       312       315       317       322       322  \n",
       "\n",
       "[5 rows x 299 columns]"
      ]
     },
     "execution_count": 36,
     "metadata": {},
     "output_type": "execute_result"
    }
   ],
   "source": [
    "deaths_df = deaths_df.loc[:, columns[4]:columns[-1]]\n",
    "deaths_df.head()"
   ]
  },
  {
   "cell_type": "code",
   "execution_count": 37,
   "metadata": {
    "execution": {
     "iopub.execute_input": "2020-12-02T18:51:39.602263Z",
     "iopub.status.busy": "2020-12-02T18:51:39.601556Z",
     "iopub.status.idle": "2020-12-02T18:51:39.605169Z",
     "shell.execute_reply": "2020-12-02T18:51:39.604494Z"
    },
    "papermill": {
     "duration": 0.069136,
     "end_time": "2020-12-02T18:51:39.605284",
     "exception": false,
     "start_time": "2020-12-02T18:51:39.536148",
     "status": "completed"
    },
    "tags": []
   },
   "outputs": [
    {
     "data": {
      "text/plain": [
       "Index(['1/22/20', '1/23/20', '1/24/20', '1/25/20', '1/26/20', '1/27/20',\n",
       "       '1/28/20', '1/29/20', '1/30/20', '1/31/20',\n",
       "       ...\n",
       "       '11/6/20', '11/7/20', '11/8/20', '11/9/20', '11/10/20', '11/11/20',\n",
       "       '11/12/20', '11/13/20', '11/14/20', '11/15/20'],\n",
       "      dtype='object', length=299)"
      ]
     },
     "execution_count": 37,
     "metadata": {},
     "output_type": "execute_result"
    }
   ],
   "source": [
    "deaths_df.keys()"
   ]
  },
  {
   "cell_type": "code",
   "execution_count": 38,
   "metadata": {
    "execution": {
     "iopub.execute_input": "2020-12-02T18:51:39.732834Z",
     "iopub.status.busy": "2020-12-02T18:51:39.731784Z",
     "iopub.status.idle": "2020-12-02T18:51:39.735952Z",
     "shell.execute_reply": "2020-12-02T18:51:39.735440Z"
    },
    "papermill": {
     "duration": 0.070325,
     "end_time": "2020-12-02T18:51:39.736080",
     "exception": false,
     "start_time": "2020-12-02T18:51:39.665755",
     "status": "completed"
    },
    "tags": []
   },
   "outputs": [
    {
     "data": {
      "text/plain": [
       "299"
      ]
     },
     "execution_count": 38,
     "metadata": {},
     "output_type": "execute_result"
    }
   ],
   "source": [
    "len(deaths_df.keys())"
   ]
  },
  {
   "cell_type": "code",
   "execution_count": 39,
   "metadata": {
    "execution": {
     "iopub.execute_input": "2020-12-02T18:51:39.866714Z",
     "iopub.status.busy": "2020-12-02T18:51:39.865841Z",
     "iopub.status.idle": "2020-12-02T18:51:39.870126Z",
     "shell.execute_reply": "2020-12-02T18:51:39.869477Z"
    },
    "papermill": {
     "duration": 0.072286,
     "end_time": "2020-12-02T18:51:39.870248",
     "exception": false,
     "start_time": "2020-12-02T18:51:39.797962",
     "status": "completed"
    },
    "tags": []
   },
   "outputs": [
    {
     "data": {
      "text/plain": [
       "17"
      ]
     },
     "execution_count": 39,
     "metadata": {},
     "output_type": "execute_result"
    }
   ],
   "source": [
    "#Sum of death cases for 22nd of January - the first day on the dataset\n",
    "deaths_df['1/22/20'].sum()"
   ]
  },
  {
   "cell_type": "code",
   "execution_count": 40,
   "metadata": {
    "execution": {
     "iopub.execute_input": "2020-12-02T18:51:40.001144Z",
     "iopub.status.busy": "2020-12-02T18:51:40.000305Z",
     "iopub.status.idle": "2020-12-02T18:51:40.004721Z",
     "shell.execute_reply": "2020-12-02T18:51:40.004087Z"
    },
    "papermill": {
     "duration": 0.071876,
     "end_time": "2020-12-02T18:51:40.004839",
     "exception": false,
     "start_time": "2020-12-02T18:51:39.932963",
     "status": "completed"
    },
    "tags": []
   },
   "outputs": [
    {
     "data": {
      "text/plain": [
       "1317139"
      ]
     },
     "execution_count": 40,
     "metadata": {},
     "output_type": "execute_result"
    }
   ],
   "source": [
    "#Sum of death cases for the last day on the dataset\n",
    "deaths_df['11/15/20'].sum()"
   ]
  },
  {
   "cell_type": "markdown",
   "metadata": {
    "papermill": {
     "duration": 0.064185,
     "end_time": "2020-12-02T18:51:40.132406",
     "exception": false,
     "start_time": "2020-12-02T18:51:40.068221",
     "status": "completed"
    },
    "tags": []
   },
   "source": [
    "Summing up the number of deaths per day"
   ]
  },
  {
   "cell_type": "code",
   "execution_count": 41,
   "metadata": {
    "execution": {
     "iopub.execute_input": "2020-12-02T18:51:40.290889Z",
     "iopub.status.busy": "2020-12-02T18:51:40.276187Z",
     "iopub.status.idle": "2020-12-02T18:51:40.294234Z",
     "shell.execute_reply": "2020-12-02T18:51:40.293691Z"
    },
    "papermill": {
     "duration": 0.098992,
     "end_time": "2020-12-02T18:51:40.294360",
     "exception": false,
     "start_time": "2020-12-02T18:51:40.195368",
     "status": "completed"
    },
    "tags": []
   },
   "outputs": [],
   "source": [
    "dates = deaths_df.keys()\n",
    "y = []\n",
    "for i in dates:\n",
    "    \n",
    "  y.append(deaths_df[i].sum())"
   ]
  },
  {
   "cell_type": "code",
   "execution_count": 42,
   "metadata": {
    "execution": {
     "iopub.execute_input": "2020-12-02T18:51:40.425555Z",
     "iopub.status.busy": "2020-12-02T18:51:40.424504Z",
     "iopub.status.idle": "2020-12-02T18:51:40.428168Z",
     "shell.execute_reply": "2020-12-02T18:51:40.428652Z"
    },
    "papermill": {
     "duration": 0.071849,
     "end_time": "2020-12-02T18:51:40.428817",
     "exception": false,
     "start_time": "2020-12-02T18:51:40.356968",
     "status": "completed"
    },
    "tags": []
   },
   "outputs": [
    {
     "data": {
      "text/plain": [
       "299"
      ]
     },
     "execution_count": 42,
     "metadata": {},
     "output_type": "execute_result"
    }
   ],
   "source": [
    "len(y)"
   ]
  },
  {
   "cell_type": "markdown",
   "metadata": {
    "papermill": {
     "duration": 0.062202,
     "end_time": "2020-12-02T18:51:40.553358",
     "exception": false,
     "start_time": "2020-12-02T18:51:40.491156",
     "status": "completed"
    },
    "tags": []
   },
   "source": [
    "We have 299 dates so far"
   ]
  },
  {
   "cell_type": "markdown",
   "metadata": {
    "papermill": {
     "duration": 0.062897,
     "end_time": "2020-12-02T18:51:40.678555",
     "exception": false,
     "start_time": "2020-12-02T18:51:40.615658",
     "status": "completed"
    },
    "tags": []
   },
   "source": [
    "#### Preparing the dataset for the machine learning model:"
   ]
  },
  {
   "cell_type": "markdown",
   "metadata": {
    "papermill": {
     "duration": 0.063541,
     "end_time": "2020-12-02T18:51:40.804838",
     "exception": false,
     "start_time": "2020-12-02T18:51:40.741297",
     "status": "completed"
    },
    "tags": []
   },
   "source": [
    "Transforming y from a vector to a matrix:"
   ]
  },
  {
   "cell_type": "code",
   "execution_count": 43,
   "metadata": {
    "execution": {
     "iopub.execute_input": "2020-12-02T18:51:40.935183Z",
     "iopub.status.busy": "2020-12-02T18:51:40.934486Z",
     "iopub.status.idle": "2020-12-02T18:51:40.938964Z",
     "shell.execute_reply": "2020-12-02T18:51:40.938350Z"
    },
    "papermill": {
     "duration": 0.072026,
     "end_time": "2020-12-02T18:51:40.939096",
     "exception": false,
     "start_time": "2020-12-02T18:51:40.867070",
     "status": "completed"
    },
    "tags": []
   },
   "outputs": [
    {
     "data": {
      "text/plain": [
       "(299, 1)"
      ]
     },
     "execution_count": 43,
     "metadata": {},
     "output_type": "execute_result"
    }
   ],
   "source": [
    "y = np.array(y).reshape(-1,1)\n",
    "y.shape"
   ]
  },
  {
   "cell_type": "code",
   "execution_count": 44,
   "metadata": {
    "execution": {
     "iopub.execute_input": "2020-12-02T18:51:41.073912Z",
     "iopub.status.busy": "2020-12-02T18:51:41.073171Z",
     "iopub.status.idle": "2020-12-02T18:51:41.076730Z",
     "shell.execute_reply": "2020-12-02T18:51:41.077396Z"
    },
    "papermill": {
     "duration": 0.074584,
     "end_time": "2020-12-02T18:51:41.077544",
     "exception": false,
     "start_time": "2020-12-02T18:51:41.002960",
     "status": "completed"
    },
    "tags": []
   },
   "outputs": [
    {
     "data": {
      "text/plain": [
       "(299, 1)"
      ]
     },
     "execution_count": 44,
     "metadata": {},
     "output_type": "execute_result"
    }
   ],
   "source": [
    "X = np.arange(len(dates)).reshape(-1,1)\n",
    "X.shape"
   ]
  },
  {
   "cell_type": "markdown",
   "metadata": {
    "papermill": {
     "duration": 0.063935,
     "end_time": "2020-12-02T18:51:41.206887",
     "exception": false,
     "start_time": "2020-12-02T18:51:41.142952",
     "status": "completed"
    },
    "tags": []
   },
   "source": [
    "Now , creating a forecast matrix to predict death cases for the next 15 days, which means in this case, the rest of the month of November. \n"
   ]
  },
  {
   "cell_type": "code",
   "execution_count": 45,
   "metadata": {
    "execution": {
     "iopub.execute_input": "2020-12-02T18:51:41.341181Z",
     "iopub.status.busy": "2020-12-02T18:51:41.340342Z",
     "iopub.status.idle": "2020-12-02T18:51:41.344631Z",
     "shell.execute_reply": "2020-12-02T18:51:41.344109Z"
    },
    "papermill": {
     "duration": 0.074731,
     "end_time": "2020-12-02T18:51:41.344751",
     "exception": false,
     "start_time": "2020-12-02T18:51:41.270020",
     "status": "completed"
    },
    "tags": []
   },
   "outputs": [
    {
     "data": {
      "text/plain": [
       "(314, 1)"
      ]
     },
     "execution_count": 45,
     "metadata": {},
     "output_type": "execute_result"
    }
   ],
   "source": [
    "fcast_mat = np.arange(len(dates) + 15).reshape(-1,1)\n",
    "fcast_mat.shape"
   ]
  },
  {
   "cell_type": "markdown",
   "metadata": {
    "papermill": {
     "duration": 0.072351,
     "end_time": "2020-12-02T18:51:41.480324",
     "exception": false,
     "start_time": "2020-12-02T18:51:41.407973",
     "status": "completed"
    },
    "tags": []
   },
   "source": [
    "Before the forecast matrix, we had 299 data points, now there are 314 data points as we included more 15 days to predict. "
   ]
  },
  {
   "cell_type": "markdown",
   "metadata": {
    "papermill": {
     "duration": 0.072958,
     "end_time": "2020-12-02T18:51:41.633536",
     "exception": false,
     "start_time": "2020-12-02T18:51:41.560578",
     "status": "completed"
    },
    "tags": []
   },
   "source": [
    "#### Train and Test data"
   ]
  },
  {
   "cell_type": "code",
   "execution_count": 46,
   "metadata": {
    "execution": {
     "iopub.execute_input": "2020-12-02T18:51:41.780374Z",
     "iopub.status.busy": "2020-12-02T18:51:41.779410Z",
     "iopub.status.idle": "2020-12-02T18:51:41.782321Z",
     "shell.execute_reply": "2020-12-02T18:51:41.782976Z"
    },
    "papermill": {
     "duration": 0.077629,
     "end_time": "2020-12-02T18:51:41.783201",
     "exception": false,
     "start_time": "2020-12-02T18:51:41.705572",
     "status": "completed"
    },
    "tags": []
   },
   "outputs": [],
   "source": [
    "X_train, X_test, y_train, y_test = train_test_split(X, y, test_size = 0.15, shuffle = False)\n",
    "#shuffle=4 because this is a time series prediction"
   ]
  },
  {
   "cell_type": "markdown",
   "metadata": {
    "papermill": {
     "duration": 0.093334,
     "end_time": "2020-12-02T18:51:41.986413",
     "exception": false,
     "start_time": "2020-12-02T18:51:41.893079",
     "status": "completed"
    },
    "tags": []
   },
   "source": [
    "### Linear Regression"
   ]
  },
  {
   "cell_type": "code",
   "execution_count": 47,
   "metadata": {
    "execution": {
     "iopub.execute_input": "2020-12-02T18:51:42.198740Z",
     "iopub.status.busy": "2020-12-02T18:51:42.154779Z",
     "iopub.status.idle": "2020-12-02T18:51:42.202616Z",
     "shell.execute_reply": "2020-12-02T18:51:42.201874Z"
    },
    "papermill": {
     "duration": 0.150783,
     "end_time": "2020-12-02T18:51:42.202782",
     "exception": false,
     "start_time": "2020-12-02T18:51:42.051999",
     "status": "completed"
    },
    "tags": []
   },
   "outputs": [],
   "source": [
    "regressor = LinearRegression()\n",
    "regressor.fit(X_train, y_train)\n",
    "score = regressor.score(X_train, y_train)\n",
    "predictions_lin = regressor.predict(X_test)"
   ]
  },
  {
   "cell_type": "code",
   "execution_count": 48,
   "metadata": {
    "execution": {
     "iopub.execute_input": "2020-12-02T18:51:42.378141Z",
     "iopub.status.busy": "2020-12-02T18:51:42.377198Z",
     "iopub.status.idle": "2020-12-02T18:51:42.381840Z",
     "shell.execute_reply": "2020-12-02T18:51:42.381212Z"
    },
    "papermill": {
     "duration": 0.090856,
     "end_time": "2020-12-02T18:51:42.381959",
     "exception": false,
     "start_time": "2020-12-02T18:51:42.291103",
     "status": "completed"
    },
    "tags": []
   },
   "outputs": [
    {
     "data": {
      "text/plain": [
       "1"
      ]
     },
     "execution_count": 48,
     "metadata": {},
     "output_type": "execute_result"
    }
   ],
   "source": [
    "mae = mean_absolute_error(y_test, predictions_lin)\n",
    "regressor.score(X_test, y_test)\n",
    "\n",
    "regressor.intercept_\n",
    "len(regressor.coef_)"
   ]
  },
  {
   "cell_type": "markdown",
   "metadata": {
    "papermill": {
     "duration": 0.063919,
     "end_time": "2020-12-02T18:51:42.509902",
     "exception": false,
     "start_time": "2020-12-02T18:51:42.445983",
     "status": "completed"
    },
    "tags": []
   },
   "source": [
    "Comparing predictions with linear regression and test data:"
   ]
  },
  {
   "cell_type": "code",
   "execution_count": 49,
   "metadata": {
    "execution": {
     "iopub.execute_input": "2020-12-02T18:51:42.652415Z",
     "iopub.status.busy": "2020-12-02T18:51:42.650578Z",
     "iopub.status.idle": "2020-12-02T18:51:42.913865Z",
     "shell.execute_reply": "2020-12-02T18:51:42.914409Z"
    },
    "papermill": {
     "duration": 0.340563,
     "end_time": "2020-12-02T18:51:42.914565",
     "exception": false,
     "start_time": "2020-12-02T18:51:42.574002",
     "status": "completed"
    },
    "tags": []
   },
   "outputs": [
    {
     "data": {
      "image/png": "[encoded data removed]",
      "text/plain": [
       "<Figure size 1008x432 with 1 Axes>"
      ]
     },
     "metadata": {},
     "output_type": "display_data"
    }
   ],
   "source": [
    "plt.figure(figsize=(14, 6))\n",
    "plt.plot(predictions_lin, linestyle = 'dashed', linewidth=3, label='Predictions with Linear Regression')\n",
    "plt.plot(y_test, linewidth=3, label = 'Test Data')\n",
    "plt.legend(loc = 'upper left', fontsize=14);"
   ]
  },
  {
   "cell_type": "code",
   "execution_count": 50,
   "metadata": {
    "execution": {
     "iopub.execute_input": "2020-12-02T18:51:43.052069Z",
     "iopub.status.busy": "2020-12-02T18:51:43.051258Z",
     "iopub.status.idle": "2020-12-02T18:51:43.056118Z",
     "shell.execute_reply": "2020-12-02T18:51:43.055628Z"
    },
    "papermill": {
     "duration": 0.075837,
     "end_time": "2020-12-02T18:51:43.056238",
     "exception": false,
     "start_time": "2020-12-02T18:51:42.980401",
     "status": "completed"
    },
    "tags": []
   },
   "outputs": [
    {
     "name": "stdout",
     "output_type": "stream",
     "text": [
      "MAE: 103630.2528892443\n",
      "RMSE: 321.91653093503027\n"
     ]
    }
   ],
   "source": [
    "print('MAE:', mean_absolute_error(predictions_lin, y_test))\n",
    "print('RMSE:', np.sqrt(mean_absolute_error(predictions_lin, y_test)))"
   ]
  },
  {
   "cell_type": "markdown",
   "metadata": {
    "papermill": {
     "duration": 0.068268,
     "end_time": "2020-12-02T18:51:43.190874",
     "exception": false,
     "start_time": "2020-12-02T18:51:43.122606",
     "status": "completed"
    },
    "tags": []
   },
   "source": [
    "### Polynomial Regression"
   ]
  },
  {
   "cell_type": "code",
   "execution_count": 51,
   "metadata": {
    "execution": {
     "iopub.execute_input": "2020-12-02T18:51:43.331012Z",
     "iopub.status.busy": "2020-12-02T18:51:43.329935Z",
     "iopub.status.idle": "2020-12-02T18:51:43.333129Z",
     "shell.execute_reply": "2020-12-02T18:51:43.332495Z"
    },
    "papermill": {
     "duration": 0.076012,
     "end_time": "2020-12-02T18:51:43.333250",
     "exception": false,
     "start_time": "2020-12-02T18:51:43.257238",
     "status": "completed"
    },
    "tags": []
   },
   "outputs": [],
   "source": [
    "poly = PolynomialFeatures(degree=4)\n",
    "X_train_poly = poly.fit_transform(X_train)\n",
    "X_test_poly = poly.transform(X_test)"
   ]
  },
  {
   "cell_type": "code",
   "execution_count": 52,
   "metadata": {
    "execution": {
     "iopub.execute_input": "2020-12-02T18:51:43.477591Z",
     "iopub.status.busy": "2020-12-02T18:51:43.476666Z",
     "iopub.status.idle": "2020-12-02T18:51:43.482999Z",
     "shell.execute_reply": "2020-12-02T18:51:43.482317Z"
    },
    "papermill": {
     "duration": 0.083859,
     "end_time": "2020-12-02T18:51:43.483165",
     "exception": false,
     "start_time": "2020-12-02T18:51:43.399306",
     "status": "completed"
    },
    "tags": []
   },
   "outputs": [],
   "source": [
    "regressor = LinearRegression()\n",
    "regressor.fit(X_train_poly, y_train)\n",
    "\n",
    "regressor = LinearRegression()\n",
    "regressor.fit(X_train_poly, y_train)\n",
    "score = regressor.score(X_train_poly, y_train)\n",
    "poly_test_pred = regressor.predict(X_test_poly)"
   ]
  },
  {
   "cell_type": "markdown",
   "metadata": {
    "papermill": {
     "duration": 0.065914,
     "end_time": "2020-12-02T18:51:43.620101",
     "exception": false,
     "start_time": "2020-12-02T18:51:43.554187",
     "status": "completed"
    },
    "tags": []
   },
   "source": [
    "Comparing the values of y_test and poly_test_predict we can see that some values were predicted right and others not so much. To have an overview of the accuracy, let's plot both data (tested and predicted) to visualize the differences:"
   ]
  },
  {
   "cell_type": "code",
   "execution_count": 53,
   "metadata": {
    "execution": {
     "iopub.execute_input": "2020-12-02T18:51:43.765033Z",
     "iopub.status.busy": "2020-12-02T18:51:43.763978Z",
     "iopub.status.idle": "2020-12-02T18:51:44.014496Z",
     "shell.execute_reply": "2020-12-02T18:51:44.013819Z"
    },
    "papermill": {
     "duration": 0.32821,
     "end_time": "2020-12-02T18:51:44.014614",
     "exception": false,
     "start_time": "2020-12-02T18:51:43.686404",
     "status": "completed"
    },
    "tags": []
   },
   "outputs": [
    {
     "data": {
      "image/png": "[encoded data removed]",
      "text/plain": [
       "<Figure size 1008x432 with 1 Axes>"
      ]
     },
     "metadata": {},
     "output_type": "display_data"
    }
   ],
   "source": [
    "plt.figure(figsize=(14, 6))\n",
    "plt.plot(poly_test_pred, linestyle = 'dashed', linewidth=3, label='Predictions with Polynomial Regression')\n",
    "plt.plot(y_test,linewidth=3, label = 'Test Data')\n",
    "plt.legend(loc = 'upper left', fontsize=14);"
   ]
  },
  {
   "cell_type": "code",
   "execution_count": 54,
   "metadata": {
    "execution": {
     "iopub.execute_input": "2020-12-02T18:51:44.155573Z",
     "iopub.status.busy": "2020-12-02T18:51:44.154673Z",
     "iopub.status.idle": "2020-12-02T18:51:44.158411Z",
     "shell.execute_reply": "2020-12-02T18:51:44.159228Z"
    },
    "papermill": {
     "duration": 0.077694,
     "end_time": "2020-12-02T18:51:44.159438",
     "exception": false,
     "start_time": "2020-12-02T18:51:44.081744",
     "status": "completed"
    },
    "tags": []
   },
   "outputs": [
    {
     "name": "stdout",
     "output_type": "stream",
     "text": [
      "MAE: 85806.57789677104\n",
      "RMSE: 292.92759838699226\n"
     ]
    }
   ],
   "source": [
    "print('MAE:', mean_absolute_error(poly_test_pred, y_test))\n",
    "print('RMSE:', np.sqrt(mean_absolute_error(poly_test_pred, y_test)))"
   ]
  },
  {
   "cell_type": "markdown",
   "metadata": {
    "papermill": {
     "duration": 0.068892,
     "end_time": "2020-12-02T18:51:44.298777",
     "exception": false,
     "start_time": "2020-12-02T18:51:44.229885",
     "status": "completed"
    },
    "tags": []
   },
   "source": [
    "### Forecast Plot"
   ]
  },
  {
   "cell_type": "code",
   "execution_count": 55,
   "metadata": {
    "execution": {
     "iopub.execute_input": "2020-12-02T18:51:44.445900Z",
     "iopub.status.busy": "2020-12-02T18:51:44.444918Z",
     "iopub.status.idle": "2020-12-02T18:51:44.451625Z",
     "shell.execute_reply": "2020-12-02T18:51:44.451079Z"
    },
    "papermill": {
     "duration": 0.084185,
     "end_time": "2020-12-02T18:51:44.451751",
     "exception": false,
     "start_time": "2020-12-02T18:51:44.367566",
     "status": "completed"
    },
    "tags": []
   },
   "outputs": [
    {
     "data": {
      "text/plain": [
       "(314, 5)"
      ]
     },
     "execution_count": 55,
     "metadata": {},
     "output_type": "execute_result"
    }
   ],
   "source": [
    "X_train_all = poly.transform(fcast_mat)\n",
    "X_train_all.shape"
   ]
  },
  {
   "cell_type": "code",
   "execution_count": 56,
   "metadata": {
    "execution": {
     "iopub.execute_input": "2020-12-02T18:51:44.594521Z",
     "iopub.status.busy": "2020-12-02T18:51:44.593848Z",
     "iopub.status.idle": "2020-12-02T18:51:44.599489Z",
     "shell.execute_reply": "2020-12-02T18:51:44.599950Z"
    },
    "papermill": {
     "duration": 0.079791,
     "end_time": "2020-12-02T18:51:44.600135",
     "exception": false,
     "start_time": "2020-12-02T18:51:44.520344",
     "status": "completed"
    },
    "tags": []
   },
   "outputs": [
    {
     "data": {
      "text/plain": [
       "314"
      ]
     },
     "execution_count": 56,
     "metadata": {},
     "output_type": "execute_result"
    }
   ],
   "source": [
    "poly_pred_all = regressor.predict(X_train_all)\n",
    "len(poly_pred_all)"
   ]
  },
  {
   "cell_type": "code",
   "execution_count": 57,
   "metadata": {
    "execution": {
     "iopub.execute_input": "2020-12-02T18:51:44.752148Z",
     "iopub.status.busy": "2020-12-02T18:51:44.750420Z",
     "iopub.status.idle": "2020-12-02T18:51:45.039448Z",
     "shell.execute_reply": "2020-12-02T18:51:45.039953Z"
    },
    "papermill": {
     "duration": 0.37119,
     "end_time": "2020-12-02T18:51:45.040118",
     "exception": false,
     "start_time": "2020-12-02T18:51:44.668928",
     "status": "completed"
    },
    "tags": []
   },
   "outputs": [
    {
     "data": {
      "image/png": "[encoded data removed]",
      "text/plain": [
       "<Figure size 1008x432 with 1 Axes>"
      ]
     },
     "metadata": {},
     "output_type": "display_data"
    }
   ],
   "source": [
    "plt.figure(figsize=(14, 6))\n",
    "plt.plot(fcast_mat[:-15], y, color='red', linewidth=3)\n",
    "plt.plot(fcast_mat, poly_pred_all, color='blue', linestyle='dashed', linewidth=3)\n",
    "plt.title('Deaths of COVID-19 in Brazil', fontsize=20)\n",
    "plt.xlabel('Days since the first case reported in Brazil (1/22/2020)', fontsize=16)\n",
    "plt.ylabel('Number of deaths', fontsize=16)\n",
    "plt.legend(['Death cases', 'Predictions'], fontsize=14);"
   ]
  },
  {
   "cell_type": "markdown",
   "metadata": {
    "papermill": {
     "duration": 0.070852,
     "end_time": "2020-12-02T18:51:45.181308",
     "exception": false,
     "start_time": "2020-12-02T18:51:45.110456",
     "status": "completed"
    },
    "tags": []
   },
   "source": [
    "## Models comparison"
   ]
  },
  {
   "cell_type": "code",
   "execution_count": 58,
   "metadata": {
    "execution": {
     "iopub.execute_input": "2020-12-02T18:51:45.334819Z",
     "iopub.status.busy": "2020-12-02T18:51:45.333983Z",
     "iopub.status.idle": "2020-12-02T18:51:45.597980Z",
     "shell.execute_reply": "2020-12-02T18:51:45.597161Z"
    },
    "papermill": {
     "duration": 0.345765,
     "end_time": "2020-12-02T18:51:45.598122",
     "exception": false,
     "start_time": "2020-12-02T18:51:45.252357",
     "status": "completed"
    },
    "tags": []
   },
   "outputs": [
    {
     "data": {
      "image/png": "[encoded data removed]",
      "text/plain": [
       "<Figure size 1008x432 with 1 Axes>"
      ]
     },
     "metadata": {},
     "output_type": "display_data"
    }
   ],
   "source": [
    "plt.figure(figsize=(14, 6))\n",
    "plt.plot(poly_test_pred, linestyle = 'dashed', linewidth=3, label='Predictions with Polynomial Regression', color='c')\n",
    "plt.plot(predictions_lin, linestyle = 'dashed', linewidth=3, label='Predictions with Linear Regression', color='red')\n",
    "plt.plot(y_test,linewidth=3, label = 'Test Data', color='blue')\n",
    "plt.legend(loc = 'upper left', fontsize=14);"
   ]
  },
  {
   "cell_type": "code",
   "execution_count": null,
   "metadata": {
    "papermill": {
     "duration": 0.072235,
     "end_time": "2020-12-02T18:51:45.742449",
     "exception": false,
     "start_time": "2020-12-02T18:51:45.670214",
     "status": "completed"
    },
    "tags": []
   },
   "outputs": [],
   "source": []
  }
 ],
 "metadata": {
  "kernelspec": {
   "display_name": "Python 3",
   "language": "python",
   "name": "python3"
  },
  "language_info": {
   "codemirror_mode": {
    "name": "ipython",
    "version": 3
   },
   "file_extension": ".py",
   "mimetype": "text/x-python",
   "name": "python",
   "nbconvert_exporter": "python",
   "pygments_lexer": "ipython3",
   "version": "3.7.6"
  },
  "papermill": {
   "duration": 23.873263,
   "end_time": "2020-12-02T18:51:45.922286",
   "environment_variables": {},
   "exception": null,
   "input_path": "__notebook__.ipynb",
   "output_path": "__notebook__.ipynb",
   "parameters": {},
   "start_time": "2020-12-02T18:51:22.049023",
   "version": "2.1.0"
  }
 },
 "nbformat": 4,
 "nbformat_minor": 4
}
