{
  "nbformat": 4,
  "nbformat_minor": 0,
  "metadata": {
    "colab": {
      "name": "Copy of artist-recomm-system.ipynb",
      "provenance": [],
      "collapsed_sections": [],
      "mount_file_id": "1euTYQnCog04K8Sc7rSx172td3WgLG607",
      "authorship_tag": "ABX9TyMWkPx12H83k4UQHRYHiCDH",
      "include_colab_link": true
    },
    "kernelspec": {
      "name": "python3",
      "display_name": "Python 3"
    }
  },
  "cells": [
    {
      "cell_type": "markdown",
      "metadata": {
        "id": "view-in-github",
        "colab_type": "text"
      },
      "source": [
        "<a href=\"https://colab.research.google.com/github/mlfa03/Data-Science-Projects/blob/main/artist_recommendation_system.ipynb\" target=\"_parent\"><img src=\"https://colab.research.google.com/assets/colab-badge.svg\" alt=\"Open In Colab\"/></a>"
      ]
    },
    {
      "cell_type": "markdown",
      "metadata": {
        "id": "Mp8yg6tud6aC"
      },
      "source": [
        "# Artist recommender system with Pyspark "
      ]
    },
    {
      "cell_type": "code",
      "metadata": {
        "colab": {
          "base_uri": "https://localhost:8080/"
        },
        "id": "XUzSNZvYhw6i",
        "outputId": "64b9fd96-b909-4946-c121-1443fc809511"
      },
      "source": [
        "from google.colab import drive\r\n",
        "drive.mount('/content/drive')"
      ],
      "execution_count": null,
      "outputs": [
        {
          "output_type": "stream",
          "text": [
            "Mounted at /content/drive\n"
          ],
          "name": "stdout"
        }
      ]
    },
    {
      "cell_type": "code",
      "metadata": {
        "colab": {
          "base_uri": "https://localhost:8080/"
        },
        "id": "tk9lp9A4d_Rs",
        "outputId": "dde8adb5-a32b-47c1-bcac-8b6912ccf689"
      },
      "source": [
        "!pip install pyspark"
      ],
      "execution_count": null,
      "outputs": [
        {
          "output_type": "stream",
          "text": [
            "Collecting pyspark\n",
            "\u001b[?25l  Downloading https://files.pythonhosted.org/packages/f0/26/198fc8c0b98580f617cb03cb298c6056587b8f0447e20fa40c5b634ced77/pyspark-3.0.1.tar.gz (204.2MB)\n",
            "\u001b[K     |████████████████████████████████| 204.2MB 73kB/s \n",
            "\u001b[?25hCollecting py4j==0.10.9\n",
            "\u001b[?25l  Downloading https://files.pythonhosted.org/packages/9e/b6/6a4fb90cd235dc8e265a6a2067f2a2c99f0d91787f06aca4bcf7c23f3f80/py4j-0.10.9-py2.py3-none-any.whl (198kB)\n",
            "\u001b[K     |████████████████████████████████| 204kB 42.1MB/s \n",
            "\u001b[?25hBuilding wheels for collected packages: pyspark\n",
            "  Building wheel for pyspark (setup.py) ... \u001b[?25l\u001b[?25hdone\n",
            "  Created wheel for pyspark: filename=pyspark-3.0.1-py2.py3-none-any.whl size=204612242 sha256=c93c9f0a427907d1493792a1884d98a1addff5b3bd4d9314a546c77e7a9d3579\n",
            "  Stored in directory: /root/.cache/pip/wheels/5e/bd/07/031766ca628adec8435bb40f0bd83bb676ce65ff4007f8e73f\n",
            "Successfully built pyspark\n",
            "Installing collected packages: py4j, pyspark\n",
            "Successfully installed py4j-0.10.9 pyspark-3.0.1\n"
          ],
          "name": "stdout"
        }
      ]
    },
    {
      "cell_type": "code",
      "metadata": {
        "id": "xaqrGNBrd_u3"
      },
      "source": [
        "from pyspark.sql import SparkSession\r\n",
        "from pyspark.sql.functions import count, desc , col, max\r\n",
        "from pyspark.ml.feature import  StringIndexer\r\n",
        "from pyspark.ml import Pipeline\r\n",
        "from pyspark.ml.recommendation import ALS\r\n",
        "from pyspark.ml.tuning import TrainValidationSplit, ParamGridBuilder\r\n",
        "import tarfile"
      ],
      "execution_count": null,
      "outputs": []
    },
    {
      "cell_type": "code",
      "metadata": {
        "id": "MbPQpXAvjOUb"
      },
      "source": [
        "spark = SparkSession.builder.appName(\"lastfm\").getOrCreate()"
      ],
      "execution_count": null,
      "outputs": []
    },
    {
      "cell_type": "markdown",
      "metadata": {
        "id": "rEI0LUBmeEUK"
      },
      "source": [
        "## Getting to know the dataset"
      ]
    },
    {
      "cell_type": "code",
      "metadata": {
        "colab": {
          "base_uri": "https://localhost:8080/"
        },
        "id": "AlCvLptDnnPj",
        "outputId": "2b23b72c-e8e9-4a84-cfe6-0f65b670434e"
      },
      "source": [
        "!wget http://mtg.upf.edu/static/datasets/last.fm/lastfm-dataset-360K.tar.gz\r\n"
      ],
      "execution_count": null,
      "outputs": [
        {
          "output_type": "stream",
          "text": [
            "--2020-12-28 11:38:25--  http://mtg.upf.edu/static/datasets/last.fm/lastfm-dataset-360K.tar.gz\n",
            "Resolving mtg.upf.edu (mtg.upf.edu)... 84.89.139.55\n",
            "Connecting to mtg.upf.edu (mtg.upf.edu)|84.89.139.55|:80... connected.\n",
            "HTTP request sent, awaiting response... 200 OK\n",
            "Length: 569202935 (543M) [application/x-gzip]\n",
            "Saving to: ‘lastfm-dataset-360K.tar.gz’\n",
            "\n",
            "lastfm-dataset-360K 100%[===================>] 542.83M  1.24MB/s    in 8m 59s  \n",
            "\n",
            "2020-12-28 11:47:24 (1.01 MB/s) - ‘lastfm-dataset-360K.tar.gz’ saved [569202935/569202935]\n",
            "\n"
          ],
          "name": "stdout"
        }
      ]
    },
    {
      "cell_type": "code",
      "metadata": {
        "colab": {
          "base_uri": "https://localhost:8080/"
        },
        "id": "MRoPMJbsqCHl",
        "outputId": "33ad23a6-9eee-4912-b016-cbe8fde9265e"
      },
      "source": [
        "filename = 'lastfm-dataset-360K.tar.gz'\r\n",
        "tf = tarfile.open(filename)\r\n",
        "print(tf.getnames())"
      ],
      "execution_count": null,
      "outputs": [
        {
          "output_type": "stream",
          "text": [
            "['lastfm-dataset-360K', 'lastfm-dataset-360K/usersha1-artmbid-artname-plays.tsv', 'lastfm-dataset-360K/README.txt', 'lastfm-dataset-360K/mbox_sha1sum.py', 'lastfm-dataset-360K/usersha1-profile.tsv']\n"
          ],
          "name": "stdout"
        }
      ]
    },
    {
      "cell_type": "code",
      "metadata": {
        "id": "Tp31VGrprjpU"
      },
      "source": [
        "file_plays = '/content/drive/MyDrive/Colab Notebooks/Lastfm/lastfm-dataset-360K/usersha1-artmbid-artname-plays.tsv'"
      ],
      "execution_count": null,
      "outputs": []
    },
    {
      "cell_type": "code",
      "metadata": {
        "id": "aoJph8RR3Ram"
      },
      "source": [
        "file_users = '/content/drive/MyDrive/Colab Notebooks/Lastfm/lastfm-dataset-360K/usersha1-profile.tsv'"
      ],
      "execution_count": null,
      "outputs": []
    },
    {
      "cell_type": "markdown",
      "metadata": {
        "id": "UW-6BIB831TP"
      },
      "source": [
        "#### Reading the data on listenings \r\n"
      ]
    },
    {
      "cell_type": "code",
      "metadata": {
        "colab": {
          "base_uri": "https://localhost:8080/"
        },
        "id": "bl2LSTyveMAi",
        "outputId": "ea5fac34-8959-4fae-c3ac-9ba04775632a"
      },
      "source": [
        "df_plays = spark.read.csv(file_plays, sep=\"\\t\")\r\n",
        "df_plays.show()"
      ],
      "execution_count": null,
      "outputs": [
        {
          "output_type": "stream",
          "text": [
            "+--------------------+--------------------+--------------------+----+\n",
            "|                 _c0|                 _c1|                 _c2| _c3|\n",
            "+--------------------+--------------------+--------------------+----+\n",
            "|00000c289a1829a80...|3bd73256-3905-4f3...|     betty blowtorch|2137|\n",
            "|00000c289a1829a80...|f2fb0ff0-5679-42e...|           die Ärzte|1099|\n",
            "|00000c289a1829a80...|b3ae82c2-e60b-455...|   melissa etheridge| 897|\n",
            "|00000c289a1829a80...|3d6bbeb7-f90e-4d1...|           elvenking| 717|\n",
            "|00000c289a1829a80...|bbd2ffd7-17f4-450...|juliette & the licks| 706|\n",
            "|00000c289a1829a80...|8bfac288-ccc5-448...|red hot chili pep...| 691|\n",
            "|00000c289a1829a80...|6531c8b1-76ea-414...|              magica| 545|\n",
            "|00000c289a1829a80...|21f3573f-10cf-44b...|the black dahlia ...| 507|\n",
            "|00000c289a1829a80...|c5db90c4-580d-4f3...|         the murmurs| 424|\n",
            "|00000c289a1829a80...|0639533a-0402-40b...|          lunachicks| 403|\n",
            "|00000c289a1829a80...|a342964d-ca53-4e5...|    walls of jericho| 393|\n",
            "|00000c289a1829a80...|f779ed95-66c8-449...|      letzte instanz| 387|\n",
            "|00000c289a1829a80...|7b885d42-3c41-4f4...|           goldfrapp| 361|\n",
            "|00000c289a1829a80...|e000d76b-afff-428...|          horrorpops| 358|\n",
            "|00000c289a1829a80...|adf334c2-9186-48c...|        the butchies| 329|\n",
            "|00000c289a1829a80...|7e870dd5-2667-454...|       jack off jill| 316|\n",
            "|00000c289a1829a80...|41593aa1-dda6-4a5...|    babes in toyland| 310|\n",
            "|00000c289a1829a80...|e8374874-4178-486...|    dropkick murphys| 302|\n",
            "|00000c289a1829a80...|295a3ae3-9e81-4cf...|       all:my:faults| 288|\n",
            "|00000c289a1829a80...|2d67239c-aa40-4ad...|            le tigre| 281|\n",
            "+--------------------+--------------------+--------------------+----+\n",
            "only showing top 20 rows\n",
            "\n"
          ],
          "name": "stdout"
        }
      ]
    },
    {
      "cell_type": "markdown",
      "metadata": {
        "id": "UpVf2c9w3_6O"
      },
      "source": [
        "Renaming the columns to make it easier the analysis:\r\n",
        "source code: https://gist.github.com/colbyford/da0d8a22eb6200ffcb9658983537d0e3"
      ]
    },
    {
      "cell_type": "code",
      "metadata": {
        "id": "MA2alYUH7VBh"
      },
      "source": [
        "column_list = df_plays.columns\r\n",
        "#prefix = \"my_prefix\"\r\n",
        "new_column_list = [\"User_id\", \"Artist_id\", \"Artist_name\", \"Plays_by_user\"]\r\n",
        " \r\n",
        "column_mapping = [[o, n] for o, n in zip(column_list, new_column_list)]\r\n",
        "\r\n",
        "df_plays = df_plays.select(list(map(lambda old, new: col(old).alias(new),*zip(*column_mapping))))"
      ],
      "execution_count": null,
      "outputs": []
    },
    {
      "cell_type": "code",
      "metadata": {
        "colab": {
          "base_uri": "https://localhost:8080/"
        },
        "id": "yXxB5RNt7zut",
        "outputId": "82a0a0b0-76fb-4964-b101-648f4a796930"
      },
      "source": [
        "df_plays.show()"
      ],
      "execution_count": null,
      "outputs": [
        {
          "output_type": "stream",
          "text": [
            "+--------------------+--------------------+--------------------+-------------+\n",
            "|             User_id|           Artist_id|         Artist_name|Plays_by_user|\n",
            "+--------------------+--------------------+--------------------+-------------+\n",
            "|00000c289a1829a80...|3bd73256-3905-4f3...|     betty blowtorch|         2137|\n",
            "|00000c289a1829a80...|f2fb0ff0-5679-42e...|           die Ärzte|         1099|\n",
            "|00000c289a1829a80...|b3ae82c2-e60b-455...|   melissa etheridge|          897|\n",
            "|00000c289a1829a80...|3d6bbeb7-f90e-4d1...|           elvenking|          717|\n",
            "|00000c289a1829a80...|bbd2ffd7-17f4-450...|juliette & the licks|          706|\n",
            "|00000c289a1829a80...|8bfac288-ccc5-448...|red hot chili pep...|          691|\n",
            "|00000c289a1829a80...|6531c8b1-76ea-414...|              magica|          545|\n",
            "|00000c289a1829a80...|21f3573f-10cf-44b...|the black dahlia ...|          507|\n",
            "|00000c289a1829a80...|c5db90c4-580d-4f3...|         the murmurs|          424|\n",
            "|00000c289a1829a80...|0639533a-0402-40b...|          lunachicks|          403|\n",
            "|00000c289a1829a80...|a342964d-ca53-4e5...|    walls of jericho|          393|\n",
            "|00000c289a1829a80...|f779ed95-66c8-449...|      letzte instanz|          387|\n",
            "|00000c289a1829a80...|7b885d42-3c41-4f4...|           goldfrapp|          361|\n",
            "|00000c289a1829a80...|e000d76b-afff-428...|          horrorpops|          358|\n",
            "|00000c289a1829a80...|adf334c2-9186-48c...|        the butchies|          329|\n",
            "|00000c289a1829a80...|7e870dd5-2667-454...|       jack off jill|          316|\n",
            "|00000c289a1829a80...|41593aa1-dda6-4a5...|    babes in toyland|          310|\n",
            "|00000c289a1829a80...|e8374874-4178-486...|    dropkick murphys|          302|\n",
            "|00000c289a1829a80...|295a3ae3-9e81-4cf...|       all:my:faults|          288|\n",
            "|00000c289a1829a80...|2d67239c-aa40-4ad...|            le tigre|          281|\n",
            "+--------------------+--------------------+--------------------+-------------+\n",
            "only showing top 20 rows\n",
            "\n"
          ],
          "name": "stdout"
        }
      ]
    },
    {
      "cell_type": "markdown",
      "metadata": {
        "id": "miu1wcyM8yWt"
      },
      "source": [
        "#### Reading users dataframe:\r\n",
        "usersha1-profile.tsv:\r\n",
        "      user-mboxsha1 \\t gender ('m'|'f'|empty) \\t age (int|empty) \\t country (str|empty) \\t signup (date|empty)"
      ]
    },
    {
      "cell_type": "code",
      "metadata": {
        "colab": {
          "base_uri": "https://localhost:8080/"
        },
        "id": "np2pU6h_eMO8",
        "outputId": "d9eb2a30-6cbf-49d7-d07e-57f91901f2e4"
      },
      "source": [
        "df_users = spark.read.csv(file_users, sep=\"\\t\")\r\n",
        "df_users.show()"
      ],
      "execution_count": null,
      "outputs": [
        {
          "output_type": "stream",
          "text": [
            "+--------------------+----+----+--------------+------------+\n",
            "|                 _c0| _c1| _c2|           _c3|         _c4|\n",
            "+--------------------+----+----+--------------+------------+\n",
            "|00000c289a1829a80...|   f|  22|       Germany| Feb 1, 2007|\n",
            "|00001411dc427966b...|   f|null|        Canada| Dec 4, 2007|\n",
            "|00004d2ac9316e22d...|null|null|       Germany| Sep 1, 2006|\n",
            "|000063d3fe1cf2ba2...|   m|  19|        Mexico|Apr 28, 2008|\n",
            "|00007a47085b9aab8...|   m|  28| United States|Jan 27, 2006|\n",
            "|0000c176103e538d5...|   m|  20|United Kingdom|Jan 14, 2006|\n",
            "|0000ee7dd906373ef...|   m|  17|       Finland|Nov 17, 2007|\n",
            "|0000ef373bbd0d89c...|   f|  22|        Poland|May 23, 2007|\n",
            "|0000f687d4fe9c1ed...|   f|  24|         Spain| Nov 4, 2008|\n",
            "|0001399387da41d55...|   m|null|       Ukraine|Aug 17, 2008|\n",
            "|000163263d2a41a39...|   m|  27|        Sweden| Jan 5, 2007|\n",
            "|0001a57568309b287...|null|  23| United States|May 12, 2007|\n",
            "|0001a88a7092846ab...|null|null|         Japan|Oct 13, 2008|\n",
            "|0001bd96207f323b5...|   f|  18|       Finland|Mar 10, 2008|\n",
            "|000215d3060a5b0ab...|   f|null|     Australia|Jul 26, 2008|\n",
            "|00024b5b85c40f990...|   m|  23| United States|Aug 19, 2005|\n",
            "|00026e8fc41980c96...|   m|  30|      Portugal|Apr 22, 2007|\n",
            "|000294c1f0d9b4006...|   m|  17|       Finland|Aug 25, 2008|\n",
            "|00029d80b8af94f2d...|null|  27|     Australia|Mar 27, 2005|\n",
            "|0002dd2154072434d...|   m|  30| United States|Aug 23, 2006|\n",
            "+--------------------+----+----+--------------+------------+\n",
            "only showing top 20 rows\n",
            "\n"
          ],
          "name": "stdout"
        }
      ]
    },
    {
      "cell_type": "code",
      "metadata": {
        "id": "nAxEMH4n8MTB"
      },
      "source": [
        "column_list = df_users.columns\r\n",
        "#prefix = \"my_prefix\"\r\n",
        "new_column_list = [\"User_id\",\"Gender\", \"Age\", \"Country\", \"Date\"]\r\n",
        " \r\n",
        "column_mapping = [[o, n] for o, n in zip(column_list, new_column_list)]\r\n",
        "\r\n",
        "df_users = df_users.select(list(map(lambda old, new: col(old).alias(new),*zip(*column_mapping))))"
      ],
      "execution_count": null,
      "outputs": []
    },
    {
      "cell_type": "code",
      "metadata": {
        "colab": {
          "base_uri": "https://localhost:8080/"
        },
        "id": "2T8BKnnF8j4N",
        "outputId": "37e555ef-0421-4040-8241-1d634ea04bc5"
      },
      "source": [
        "df_users.show()"
      ],
      "execution_count": null,
      "outputs": [
        {
          "output_type": "stream",
          "text": [
            "+--------------------+------+----+--------------+------------+\n",
            "|             User_id|Gender| Age|       Country|        Date|\n",
            "+--------------------+------+----+--------------+------------+\n",
            "|00000c289a1829a80...|     f|  22|       Germany| Feb 1, 2007|\n",
            "|00001411dc427966b...|     f|null|        Canada| Dec 4, 2007|\n",
            "|00004d2ac9316e22d...|  null|null|       Germany| Sep 1, 2006|\n",
            "|000063d3fe1cf2ba2...|     m|  19|        Mexico|Apr 28, 2008|\n",
            "|00007a47085b9aab8...|     m|  28| United States|Jan 27, 2006|\n",
            "|0000c176103e538d5...|     m|  20|United Kingdom|Jan 14, 2006|\n",
            "|0000ee7dd906373ef...|     m|  17|       Finland|Nov 17, 2007|\n",
            "|0000ef373bbd0d89c...|     f|  22|        Poland|May 23, 2007|\n",
            "|0000f687d4fe9c1ed...|     f|  24|         Spain| Nov 4, 2008|\n",
            "|0001399387da41d55...|     m|null|       Ukraine|Aug 17, 2008|\n",
            "|000163263d2a41a39...|     m|  27|        Sweden| Jan 5, 2007|\n",
            "|0001a57568309b287...|  null|  23| United States|May 12, 2007|\n",
            "|0001a88a7092846ab...|  null|null|         Japan|Oct 13, 2008|\n",
            "|0001bd96207f323b5...|     f|  18|       Finland|Mar 10, 2008|\n",
            "|000215d3060a5b0ab...|     f|null|     Australia|Jul 26, 2008|\n",
            "|00024b5b85c40f990...|     m|  23| United States|Aug 19, 2005|\n",
            "|00026e8fc41980c96...|     m|  30|      Portugal|Apr 22, 2007|\n",
            "|000294c1f0d9b4006...|     m|  17|       Finland|Aug 25, 2008|\n",
            "|00029d80b8af94f2d...|  null|  27|     Australia|Mar 27, 2005|\n",
            "|0002dd2154072434d...|     m|  30| United States|Aug 23, 2006|\n",
            "+--------------------+------+----+--------------+------------+\n",
            "only showing top 20 rows\n",
            "\n"
          ],
          "name": "stdout"
        }
      ]
    },
    {
      "cell_type": "code",
      "metadata": {
        "id": "FghJMVlUPELB"
      },
      "source": [
        "distinct_ids = [x.Country for x in df_users.select('Country').distinct().collect()]"
      ],
      "execution_count": null,
      "outputs": []
    },
    {
      "cell_type": "code",
      "metadata": {
        "colab": {
          "base_uri": "https://localhost:8080/"
        },
        "id": "PHYe2NnqPdkn",
        "outputId": "1f5e8811-1a7d-4503-8c86-e6f8f69b6d47"
      },
      "source": [
        "len(distinct_ids)"
      ],
      "execution_count": null,
      "outputs": [
        {
          "output_type": "execute_result",
          "data": {
            "text/plain": [
              "239"
            ]
          },
          "metadata": {
            "tags": []
          },
          "execution_count": 19
        }
      ]
    },
    {
      "cell_type": "markdown",
      "metadata": {
        "id": "tOTtmjv0eMlX"
      },
      "source": [
        "## Cleaning the data"
      ]
    },
    {
      "cell_type": "markdown",
      "metadata": {
        "id": "dH-ywP9n9KWU"
      },
      "source": [
        "#### Listenings Data"
      ]
    },
    {
      "cell_type": "code",
      "metadata": {
        "colab": {
          "base_uri": "https://localhost:8080/"
        },
        "id": "wAvDtkZdePTT",
        "outputId": "d87fbe00-1fdb-4236-aa43-648d192c6ecc"
      },
      "source": [
        "df_plays = df_plays.drop('Artist_id')\r\n",
        "df_plays.show()"
      ],
      "execution_count": null,
      "outputs": [
        {
          "output_type": "stream",
          "text": [
            "+--------------------+--------------------+-------------+\n",
            "|             User_id|         Artist_name|Plays_by_user|\n",
            "+--------------------+--------------------+-------------+\n",
            "|00000c289a1829a80...|     betty blowtorch|         2137|\n",
            "|00000c289a1829a80...|           die Ärzte|         1099|\n",
            "|00000c289a1829a80...|   melissa etheridge|          897|\n",
            "|00000c289a1829a80...|           elvenking|          717|\n",
            "|00000c289a1829a80...|juliette & the licks|          706|\n",
            "|00000c289a1829a80...|red hot chili pep...|          691|\n",
            "|00000c289a1829a80...|              magica|          545|\n",
            "|00000c289a1829a80...|the black dahlia ...|          507|\n",
            "|00000c289a1829a80...|         the murmurs|          424|\n",
            "|00000c289a1829a80...|          lunachicks|          403|\n",
            "|00000c289a1829a80...|    walls of jericho|          393|\n",
            "|00000c289a1829a80...|      letzte instanz|          387|\n",
            "|00000c289a1829a80...|           goldfrapp|          361|\n",
            "|00000c289a1829a80...|          horrorpops|          358|\n",
            "|00000c289a1829a80...|        the butchies|          329|\n",
            "|00000c289a1829a80...|       jack off jill|          316|\n",
            "|00000c289a1829a80...|    babes in toyland|          310|\n",
            "|00000c289a1829a80...|    dropkick murphys|          302|\n",
            "|00000c289a1829a80...|       all:my:faults|          288|\n",
            "|00000c289a1829a80...|            le tigre|          281|\n",
            "+--------------------+--------------------+-------------+\n",
            "only showing top 20 rows\n",
            "\n"
          ],
          "name": "stdout"
        }
      ]
    },
    {
      "cell_type": "code",
      "metadata": {
        "id": "53ydHxTWeQZQ"
      },
      "source": [
        "df_plays = df_plays.na.drop()"
      ],
      "execution_count": null,
      "outputs": []
    },
    {
      "cell_type": "code",
      "metadata": {
        "id": "2C3C9y6ieQcf"
      },
      "source": [
        "row_numbers = df_plays.count()\r\n",
        "column_numbers = len(df_plays.columns)"
      ],
      "execution_count": null,
      "outputs": []
    },
    {
      "cell_type": "code",
      "metadata": {
        "colab": {
          "base_uri": "https://localhost:8080/"
        },
        "id": "4z6i8it39dqt",
        "outputId": "09a38725-38bd-4f6b-c1ae-cce12c9b91ad"
      },
      "source": [
        "print(row_numbers, column_numbers)"
      ],
      "execution_count": null,
      "outputs": [
        {
          "output_type": "stream",
          "text": [
            "12363697 3\n"
          ],
          "name": "stdout"
        }
      ]
    },
    {
      "cell_type": "markdown",
      "metadata": {
        "id": "H7GSyGii9TcK"
      },
      "source": [
        "#### Users Data"
      ]
    },
    {
      "cell_type": "code",
      "metadata": {
        "id": "0vk0UCYXE-b3"
      },
      "source": [
        "df_users = df_users.na.drop()"
      ],
      "execution_count": null,
      "outputs": []
    },
    {
      "cell_type": "code",
      "metadata": {
        "colab": {
          "base_uri": "https://localhost:8080/"
        },
        "id": "fSBnR1uIeQf2",
        "outputId": "d96a02b9-cd21-410e-ea06-c56d2f828d2e"
      },
      "source": [
        "row_numbers2 = df_users.count()\r\n",
        "column_numbers2 = len(df_users.columns)\r\n",
        "print(row_numbers2, column_numbers2)"
      ],
      "execution_count": null,
      "outputs": [
        {
          "output_type": "stream",
          "text": [
            "267383 5\n"
          ],
          "name": "stdout"
        }
      ]
    },
    {
      "cell_type": "markdown",
      "metadata": {
        "id": "01A8lBa_eWdX"
      },
      "source": [
        "## Preparing the data for the ML Model"
      ]
    },
    {
      "cell_type": "code",
      "metadata": {
        "colab": {
          "base_uri": "https://localhost:8080/"
        },
        "id": "0ysUYccYK8pU",
        "outputId": "c46ad38a-9f3c-4948-97ac-6ec7e248bd37"
      },
      "source": [
        "indexer = [StringIndexer(inputCol=col, outputCol=col+'_index').fit(df_plays) for col in list(set(df_plays.columns)- set(['count']))\r\n",
        "]\r\n",
        "pipeline = Pipeline(stages=indexer)\r\n",
        "\r\n",
        "data = pipeline.fit(df_plays).transform(df_plays)\r\n",
        "data.show()"
      ],
      "execution_count": null,
      "outputs": [
        {
          "output_type": "stream",
          "text": [
            "+--------------------+--------------------+-------------+-------------------+-------------+-----------------+\n",
            "|             User_id|         Artist_name|Plays_by_user|Plays_by_user_index|User_id_index|Artist_name_index|\n",
            "+--------------------+--------------------+-------------+-------------------+-------------+-----------------+\n",
            "|00000c289a1829a80...|     betty blowtorch|         2137|             2005.0|     102190.0|          17293.0|\n",
            "|00000c289a1829a80...|           die Ärzte|         1099|             1139.0|     102190.0|            274.0|\n",
            "|00000c289a1829a80...|   melissa etheridge|          897|              908.0|     102190.0|           2950.0|\n",
            "|00000c289a1829a80...|           elvenking|          717|              719.0|     102190.0|           1966.0|\n",
            "|00000c289a1829a80...|juliette & the licks|          706|              706.0|     102190.0|           5285.0|\n",
            "|00000c289a1829a80...|red hot chili pep...|          691|              697.0|     102190.0|              3.0|\n",
            "|00000c289a1829a80...|              magica|          545|              542.0|     102190.0|          10189.0|\n",
            "|00000c289a1829a80...|the black dahlia ...|          507|              509.0|     102190.0|            933.0|\n",
            "|00000c289a1829a80...|         the murmurs|          424|              420.0|     102190.0|           9199.0|\n",
            "|00000c289a1829a80...|          lunachicks|          403|              397.0|     102190.0|           8139.0|\n",
            "|00000c289a1829a80...|    walls of jericho|          393|              392.0|     102190.0|           1268.0|\n",
            "|00000c289a1829a80...|      letzte instanz|          387|              382.0|     102190.0|           2377.0|\n",
            "|00000c289a1829a80...|           goldfrapp|          361|              360.0|     102190.0|            123.0|\n",
            "|00000c289a1829a80...|          horrorpops|          358|              357.0|     102190.0|           1664.0|\n",
            "|00000c289a1829a80...|        the butchies|          329|              328.0|     102190.0|          18579.0|\n",
            "|00000c289a1829a80...|       jack off jill|          316|              314.0|     102190.0|           2300.0|\n",
            "|00000c289a1829a80...|    babes in toyland|          310|              309.0|     102190.0|           5117.0|\n",
            "|00000c289a1829a80...|    dropkick murphys|          302|              299.0|     102190.0|            269.0|\n",
            "|00000c289a1829a80...|       all:my:faults|          288|              289.0|     102190.0|          12735.0|\n",
            "|00000c289a1829a80...|            le tigre|          281|              280.0|     102190.0|            718.0|\n",
            "+--------------------+--------------------+-------------+-------------------+-------------+-----------------+\n",
            "only showing top 20 rows\n",
            "\n"
          ],
          "name": "stdout"
        }
      ]
    },
    {
      "cell_type": "code",
      "metadata": {
        "id": "tQKBgGDzef_y"
      },
      "source": [
        "(training, test) = data.randomSplit([0.5, 0.5])"
      ],
      "execution_count": null,
      "outputs": []
    },
    {
      "cell_type": "markdown",
      "metadata": {
        "id": "3ggutjcSeg7h"
      },
      "source": [
        "## Model Building"
      ]
    },
    {
      "cell_type": "code",
      "metadata": {
        "id": "nNm7bVRWJJcl"
      },
      "source": [
        "USERID = 'User_id_index'\r\n",
        "ARTIST = 'Artist_name_index'\r\n",
        "COUNT = 'Plays_by_user_index'\r\n",
        "\r\n",
        "als = ALS(maxIter=5, regParam=0.01, userCol=USERID, itemCol=ARTIST, ratingCol=COUNT)\r\n",
        "model = als.fit(training)\r\n",
        "\r\n",
        "predictions = model.transform(test)"
      ],
      "execution_count": null,
      "outputs": []
    },
    {
      "cell_type": "markdown",
      "metadata": {
        "id": "6pxVkJujelf6"
      },
      "source": [
        "## Generate top 5 Artist Recommendations for each user"
      ]
    },
    {
      "cell_type": "code",
      "metadata": {
        "id": "a_M4n7czeomK"
      },
      "source": [
        "recs = model.recommendForAllUsers(5)"
      ],
      "execution_count": null,
      "outputs": []
    },
    {
      "cell_type": "code",
      "metadata": {
        "id": "xqEGaxjaw9Pc"
      },
      "source": [
        "#recs.show()"
      ],
      "execution_count": null,
      "outputs": []
    },
    {
      "cell_type": "code",
      "metadata": {
        "id": "FHSVb2kOxE06",
        "colab": {
          "base_uri": "https://localhost:8080/"
        },
        "outputId": "c25f0dbc-47be-4fc8-8ad7-b4601cab5367"
      },
      "source": [
        "recs.take(1)"
      ],
      "execution_count": null,
      "outputs": [
        {
          "output_type": "execute_result",
          "data": {
            "text/plain": [
              "[Row(User_id_index=148, recommendations=[Row(Artist_name_index=13701, rating=4258.02978515625), Row(Artist_name_index=38177, rating=2738.568359375), Row(Artist_name_index=32007, rating=2303.109375), Row(Artist_name_index=16959, rating=2192.452880859375), Row(Artist_name_index=28672, rating=2160.048095703125)])]"
            ]
          },
          "metadata": {
            "tags": []
          },
          "execution_count": 33
        }
      ]
    },
    {
      "cell_type": "code",
      "metadata": {
        "id": "yh51A871YmKC"
      },
      "source": [
        ""
      ],
      "execution_count": null,
      "outputs": []
    }
  ]
}
